{
 "cells": [
  {
   "cell_type": "markdown",
   "id": "be2a6e8f",
   "metadata": {},
   "source": [
    "## import Library"
   ]
  },
  {
   "cell_type": "code",
   "execution_count": 1,
   "id": "8f1a3d6b",
   "metadata": {},
   "outputs": [],
   "source": [
    "import numpy as np\n",
    "import matplotlib.pyplot as plt \n",
    "import csv"
   ]
  },
  {
   "cell_type": "markdown",
   "id": "c661fa31",
   "metadata": {},
   "source": [
    "## IMPORT DATA SET"
   ]
  },
  {
   "cell_type": "code",
   "execution_count": 2,
   "id": "23be1090",
   "metadata": {},
   "outputs": [],
   "source": [
    "data = []\n",
    "\n",
    "# read the file \n",
    "with open(\"./raw_data.csv\", \"r\") as csvfile:\n",
    "    file_reader = csv.reader(csvfile)\n",
    "\n",
    "    for row in file_reader:\n",
    "        data.append(row)\n",
    "\n",
    "# change data into numpy array\n",
    "data = np.array(data)"
   ]
  },
  {
   "cell_type": "code",
   "execution_count": 3,
   "id": "ba9f9234",
   "metadata": {},
   "outputs": [],
   "source": [
    "data\n",
    "data.shape\n",
    "np.savetxt(\"raw_data.npy\",data, fmt=\"%s\", delimiter=\",\")"
   ]
  },
  {
   "cell_type": "code",
   "execution_count": 4,
   "id": "785fab14",
   "metadata": {},
   "outputs": [
    {
     "name": "stdout",
     "output_type": "stream",
     "text": [
      "Header:\n",
      " ['MSN' 'YYYYMM' 'Value' 'Column_Order' 'Description' 'Unit'] \n",
      "\n",
      " Values:\n",
      " [['CLETPUS' '194913' '135451.32' '1'\n",
      "  'Electricity Net Generation From Coal, All Sectors'\n",
      "  'Million Kilowatthours']\n",
      " ['CLETPUS' '195013' '154519.994' '1'\n",
      "  'Electricity Net Generation From Coal, All Sectors'\n",
      "  'Million Kilowatthours']\n",
      " ['CLETPUS' '195113' '185203.657' '1'\n",
      "  'Electricity Net Generation From Coal, All Sectors'\n",
      "  'Million Kilowatthours']\n",
      " ...\n",
      " ['ELETPUS' '202209' '350919.559' '13'\n",
      "  'Electricity Net Generation Total (including from sources not shown), All Sectors'\n",
      "  'Million Kilowatthours']\n",
      " ['ELETPUS' '202210' '314048.288' '13'\n",
      "  'Electricity Net Generation Total (including from sources not shown), All Sectors'\n",
      "  'Million Kilowatthours']\n",
      " ['ELETPUS' '202211' '323198.745' '13'\n",
      "  'Electricity Net Generation Total (including from sources not shown), All Sectors'\n",
      "  'Million Kilowatthours']]\n"
     ]
    }
   ],
   "source": [
    "header = data[0, :]\n",
    "values = data[1:, :]\n",
    "print(\"Header:\\n\", header, \"\\n\\n Values:\\n\", values)"
   ]
  },
  {
   "cell_type": "markdown",
   "id": "0744da39",
   "metadata": {},
   "source": [
    "## Extract The Other_Gases Energy Data"
   ]
  },
  {
   "cell_type": "code",
   "execution_count": 7,
   "id": "7ceb70c8",
   "metadata": {},
   "outputs": [
    {
     "name": "stdout",
     "output_type": "stream",
     "text": [
      "[False False False ... False False False]\n",
      "[['OJETPUS' '194913' 'Not Available' '4'\n",
      "  'Electricity Net Generation From Other Gases, All Sectors'\n",
      "  'Million Kilowatthours']\n",
      " ['OJETPUS' '195013' 'Not Available' '4'\n",
      "  'Electricity Net Generation From Other Gases, All Sectors'\n",
      "  'Million Kilowatthours']\n",
      " ['OJETPUS' '195113' 'Not Available' '4'\n",
      "  'Electricity Net Generation From Other Gases, All Sectors'\n",
      "  'Million Kilowatthours']\n",
      " ...\n",
      " ['OJETPUS' '202209' '1048.965' '4'\n",
      "  'Electricity Net Generation From Other Gases, All Sectors'\n",
      "  'Million Kilowatthours']\n",
      " ['OJETPUS' '202210' '985.076' '4'\n",
      "  'Electricity Net Generation From Other Gases, All Sectors'\n",
      "  'Million Kilowatthours']\n",
      " ['OJETPUS' '202211' '964.075' '4'\n",
      "  'Electricity Net Generation From Other Gases, All Sectors'\n",
      "  'Million Kilowatthours']]\n"
     ]
    },
    {
     "data": {
      "text/plain": [
       "(672, 6)"
      ]
     },
     "execution_count": 7,
     "metadata": {},
     "output_type": "execute_result"
    }
   ],
   "source": [
    "other_gases_cond = values[:,4] == \"Electricity Net Generation From Other Gases, All Sectors\"\n",
    "print(other_gases_cond)\n",
    "other_gases_data = values[other_gases_cond]\n",
    "print(other_gases_data)\n",
    "other_gases_data.shape"
   ]
  },
  {
   "cell_type": "code",
   "execution_count": 9,
   "id": "b62351e7",
   "metadata": {
    "scrolled": true
   },
   "outputs": [
    {
     "data": {
      "text/plain": [
       "array([['OJETPUS', '194913', 'Not Available', '4',\n",
       "        'Electricity Net Generation From Other Gases, All Sectors',\n",
       "        'Million Kilowatthours'],\n",
       "       ['OJETPUS', '195013', 'Not Available', '4',\n",
       "        'Electricity Net Generation From Other Gases, All Sectors',\n",
       "        'Million Kilowatthours'],\n",
       "       ['OJETPUS', '195113', 'Not Available', '4',\n",
       "        'Electricity Net Generation From Other Gases, All Sectors',\n",
       "        'Million Kilowatthours'],\n",
       "       ...,\n",
       "       ['OJETPUS', '202209', '1048.965', '4',\n",
       "        'Electricity Net Generation From Other Gases, All Sectors',\n",
       "        'Million Kilowatthours'],\n",
       "       ['OJETPUS', '202210', '985.076', '4',\n",
       "        'Electricity Net Generation From Other Gases, All Sectors',\n",
       "        'Million Kilowatthours'],\n",
       "       ['OJETPUS', '202211', '964.075', '4',\n",
       "        'Electricity Net Generation From Other Gases, All Sectors',\n",
       "        'Million Kilowatthours']], dtype='<U80')"
      ]
     },
     "execution_count": 9,
     "metadata": {},
     "output_type": "execute_result"
    }
   ],
   "source": [
    "other_gases_data"
   ]
  },
  {
   "cell_type": "markdown",
   "id": "1b56ec8f",
   "metadata": {},
   "source": [
    "## Saving File"
   ]
  },
  {
   "cell_type": "code",
   "execution_count": null,
   "id": "c23838d3",
   "metadata": {},
   "outputs": [],
   "source": [
    "np.savetxt(\"other_gases_energy.npy\", other_gases_data, fmt=\"%s\", delimiter=\",\")\n",
    "np.savetxt(\"other_gases_energy.csv\", other_gases_data, fmt=\"%s\", delimiter=\",\")"
   ]
  },
  {
   "cell_type": "markdown",
   "id": "eca5ad55",
   "metadata": {},
   "source": [
    "## EDA-Exploratory Data Analysis"
   ]
  },
  {
   "cell_type": "code",
   "execution_count": 10,
   "id": "03b32800",
   "metadata": {},
   "outputs": [
    {
     "name": "stdout",
     "output_type": "stream",
     "text": [
      "Row:  672\n",
      "colum:  6\n"
     ]
    }
   ],
   "source": [
    "# Return the shape of my data\n",
    "print(\"Row: \",other_gases_data.shape[0])\n",
    "print(\"colum: \",other_gases_data.shape[1])"
   ]
  },
  {
   "cell_type": "markdown",
   "id": "ff3074d2",
   "metadata": {},
   "source": [
    "## Data Cleaning"
   ]
  },
  {
   "cell_type": "markdown",
   "id": "491de091",
   "metadata": {},
   "source": [
    "in the value column, some data point include \"Not Availabe\" which means energy were not recorded under other_gases for that year."
   ]
  },
  {
   "cell_type": "code",
   "execution_count": 11,
   "id": "39994415",
   "metadata": {},
   "outputs": [
    {
     "data": {
      "text/plain": [
       "array(['194913', '195013', '195113', '195213', '195313', '195413',\n",
       "       '195513', '195613', '195713', '195813', '195913', '196013',\n",
       "       '196113', '196213', '196313', '196413', '196513', '196613',\n",
       "       '196713', '196813', '196913', '197013', '197113', '197213',\n",
       "       '197301', '197302', '197303', '197304', '197305', '197306',\n",
       "       '197307', '197308', '197309', '197310', '197311', '197312',\n",
       "       '197313', '197401', '197402', '197403', '197404', '197405',\n",
       "       '197406', '197407', '197408', '197409', '197410', '197411',\n",
       "       '197412', '197413', '197501', '197502', '197503', '197504',\n",
       "       '197505', '197506', '197507', '197508', '197509', '197510',\n",
       "       '197511', '197512', '197513', '197601', '197602', '197603',\n",
       "       '197604', '197605', '197606', '197607', '197608', '197609',\n",
       "       '197610', '197611', '197612', '197613', '197701', '197702',\n",
       "       '197703', '197704', '197705', '197706', '197707', '197708',\n",
       "       '197709', '197710', '197711', '197712', '197713', '197801',\n",
       "       '197802', '197803', '197804', '197805', '197806', '197807',\n",
       "       '197808', '197809', '197810', '197811', '197812', '197813',\n",
       "       '197901', '197902', '197903', '197904', '197905', '197906',\n",
       "       '197907', '197908', '197909', '197910', '197911', '197912',\n",
       "       '197913', '198001', '198002', '198003', '198004', '198005',\n",
       "       '198006', '198007', '198008', '198009', '198010', '198011',\n",
       "       '198012', '198013', '198101', '198102', '198103', '198104',\n",
       "       '198105', '198106', '198107', '198108', '198109', '198110',\n",
       "       '198111', '198112', '198113', '198201', '198202', '198203',\n",
       "       '198204', '198205', '198206', '198207', '198208', '198209',\n",
       "       '198210', '198211', '198212', '198213', '198301', '198302',\n",
       "       '198303', '198304', '198305', '198306', '198307', '198308',\n",
       "       '198309', '198310', '198311', '198312', '198313', '198401',\n",
       "       '198402', '198403', '198404', '198405', '198406', '198407',\n",
       "       '198408', '198409', '198410', '198411', '198412', '198413',\n",
       "       '198501', '198502', '198503', '198504', '198505', '198506',\n",
       "       '198507', '198508', '198509', '198510', '198511', '198512',\n",
       "       '198513', '198601', '198602', '198603', '198604', '198605',\n",
       "       '198606', '198607', '198608', '198609', '198610', '198611',\n",
       "       '198612', '198613', '198701', '198702', '198703', '198704',\n",
       "       '198705', '198706', '198707', '198708', '198709', '198710',\n",
       "       '198711', '198712', '198713', '198801', '198802', '198803',\n",
       "       '198804', '198805', '198806', '198807', '198808', '198809',\n",
       "       '198810', '198811', '198812', '198813', '198901', '198902',\n",
       "       '198903', '198904', '198905', '198906', '198907', '198908',\n",
       "       '198909', '198910', '198911', '198912', '198913', '199001',\n",
       "       '199002', '199003', '199004', '199005', '199006', '199007',\n",
       "       '199008', '199009', '199010', '199011', '199012', '199013',\n",
       "       '199101', '199102', '199103', '199104', '199105', '199106',\n",
       "       '199107', '199108', '199109', '199110', '199111', '199112',\n",
       "       '199113', '199201', '199202', '199203', '199204', '199205',\n",
       "       '199206', '199207', '199208', '199209', '199210', '199211',\n",
       "       '199212', '199213', '199301', '199302', '199303', '199304',\n",
       "       '199305', '199306', '199307', '199308', '199309', '199310',\n",
       "       '199311', '199312', '199313', '199401', '199402', '199403',\n",
       "       '199404', '199405', '199406', '199407', '199408', '199409',\n",
       "       '199410', '199411', '199412', '199413', '199501', '199502',\n",
       "       '199503', '199504', '199505', '199506', '199507', '199508',\n",
       "       '199509', '199510', '199511', '199512', '199513', '199601',\n",
       "       '199602', '199603', '199604', '199605', '199606', '199607',\n",
       "       '199608', '199609', '199610', '199611', '199612', '199613',\n",
       "       '199701', '199702', '199703', '199704', '199705', '199706',\n",
       "       '199707', '199708', '199709', '199710', '199711', '199712',\n",
       "       '199713', '199801', '199802', '199803', '199804', '199805',\n",
       "       '199806', '199807', '199808', '199809', '199810', '199811',\n",
       "       '199812', '199813', '199901', '199902', '199903', '199904',\n",
       "       '199905', '199906', '199907', '199908', '199909', '199910',\n",
       "       '199911', '199912', '199913', '200001', '200002', '200003',\n",
       "       '200004', '200005', '200006', '200007', '200008', '200009',\n",
       "       '200010', '200011', '200012', '200013', '200101', '200102',\n",
       "       '200103', '200104', '200105', '200106', '200107', '200108',\n",
       "       '200109', '200110', '200111', '200112', '200113', '200201',\n",
       "       '200202', '200203', '200204', '200205', '200206', '200207',\n",
       "       '200208', '200209', '200210', '200211', '200212', '200213',\n",
       "       '200301', '200302', '200303', '200304', '200305', '200306',\n",
       "       '200307', '200308', '200309', '200310', '200311', '200312',\n",
       "       '200313', '200401', '200402', '200403', '200404', '200405',\n",
       "       '200406', '200407', '200408', '200409', '200410', '200411',\n",
       "       '200412', '200413', '200501', '200502', '200503', '200504',\n",
       "       '200505', '200506', '200507', '200508', '200509', '200510',\n",
       "       '200511', '200512', '200513', '200601', '200602', '200603',\n",
       "       '200604', '200605', '200606', '200607', '200608', '200609',\n",
       "       '200610', '200611', '200612', '200613', '200701', '200702',\n",
       "       '200703', '200704', '200705', '200706', '200707', '200708',\n",
       "       '200709', '200710', '200711', '200712', '200713', '200801',\n",
       "       '200802', '200803', '200804', '200805', '200806', '200807',\n",
       "       '200808', '200809', '200810', '200811', '200812', '200813',\n",
       "       '200901', '200902', '200903', '200904', '200905', '200906',\n",
       "       '200907', '200908', '200909', '200910', '200911', '200912',\n",
       "       '200913', '201001', '201002', '201003', '201004', '201005',\n",
       "       '201006', '201007', '201008', '201009', '201010', '201011',\n",
       "       '201012', '201013', '201101', '201102', '201103', '201104',\n",
       "       '201105', '201106', '201107', '201108', '201109', '201110',\n",
       "       '201111', '201112', '201113', '201201', '201202', '201203',\n",
       "       '201204', '201205', '201206', '201207', '201208', '201209',\n",
       "       '201210', '201211', '201212', '201213', '201301', '201302',\n",
       "       '201303', '201304', '201305', '201306', '201307', '201308',\n",
       "       '201309', '201310', '201311', '201312', '201313', '201401',\n",
       "       '201402', '201403', '201404', '201405', '201406', '201407',\n",
       "       '201408', '201409', '201410', '201411', '201412', '201413',\n",
       "       '201501', '201502', '201503', '201504', '201505', '201506',\n",
       "       '201507', '201508', '201509', '201510', '201511', '201512',\n",
       "       '201513', '201601', '201602', '201603', '201604', '201605',\n",
       "       '201606', '201607', '201608', '201609', '201610', '201611',\n",
       "       '201612', '201613', '201701', '201702', '201703', '201704',\n",
       "       '201705', '201706', '201707', '201708', '201709', '201710',\n",
       "       '201711', '201712', '201713', '201801', '201802', '201803',\n",
       "       '201804', '201805', '201806', '201807', '201808', '201809',\n",
       "       '201810', '201811', '201812', '201813', '201901', '201902',\n",
       "       '201903', '201904', '201905', '201906', '201907', '201908',\n",
       "       '201909', '201910', '201911', '201912', '201913', '202001',\n",
       "       '202002', '202003', '202004', '202005', '202006', '202007',\n",
       "       '202008', '202009', '202010', '202011', '202012', '202013',\n",
       "       '202101', '202102', '202103', '202104', '202105', '202106',\n",
       "       '202107', '202108', '202109', '202110', '202111', '202112',\n",
       "       '202113', '202201', '202202', '202203', '202204', '202205',\n",
       "       '202206', '202207', '202208', '202209', '202210', '202211'],\n",
       "      dtype='<U80')"
      ]
     },
     "execution_count": 11,
     "metadata": {},
     "output_type": "execute_result"
    }
   ],
   "source": [
    "other_gases_data[:,1]"
   ]
  },
  {
   "cell_type": "code",
   "execution_count": 12,
   "id": "94b59632",
   "metadata": {},
   "outputs": [],
   "source": [
    "available_mask = other_gases_data[:,2] != \"Not Available\"\n",
    "\n",
    "other_gases_data = other_gases_data[available_mask]"
   ]
  },
  {
   "cell_type": "markdown",
   "id": "2f82e99b",
   "metadata": {},
   "source": [
    "## Save Clean Other_Gases Data"
   ]
  },
  {
   "cell_type": "code",
   "execution_count": 13,
   "id": "2f65e10d",
   "metadata": {},
   "outputs": [],
   "source": [
    "np.savetxt(\"other_gases.csv\", other_gases_data, fmt=\"%s\", delimiter=\",\")"
   ]
  },
  {
   "cell_type": "code",
   "execution_count": 14,
   "id": "632a3c7d",
   "metadata": {},
   "outputs": [],
   "source": [
    "annual_mask = np.array([x[-2:] == '13' for x in other_gases_data[:,1]])"
   ]
  },
  {
   "cell_type": "code",
   "execution_count": 15,
   "id": "4a1e4750",
   "metadata": {},
   "outputs": [],
   "source": [
    "annual_other_gases_data = other_gases_data[annual_mask]"
   ]
  },
  {
   "cell_type": "code",
   "execution_count": 16,
   "id": "c3cdc826",
   "metadata": {
    "scrolled": true
   },
   "outputs": [
    {
     "data": {
      "text/plain": [
       "array([['OJETPUS', '198913', '7862.418', '4',\n",
       "        'Electricity Net Generation From Other Gases, All Sectors',\n",
       "        'Million Kilowatthours'],\n",
       "       ['OJETPUS', '199013', '10382.83', '4',\n",
       "        'Electricity Net Generation From Other Gases, All Sectors',\n",
       "        'Million Kilowatthours'],\n",
       "       ['OJETPUS', '199113', '11335.593', '4',\n",
       "        'Electricity Net Generation From Other Gases, All Sectors',\n",
       "        'Million Kilowatthours'],\n",
       "       ['OJETPUS', '199213', '13270.237', '4',\n",
       "        'Electricity Net Generation From Other Gases, All Sectors',\n",
       "        'Million Kilowatthours'],\n",
       "       ['OJETPUS', '199313', '12955.798', '4',\n",
       "        'Electricity Net Generation From Other Gases, All Sectors',\n",
       "        'Million Kilowatthours'],\n",
       "       ['OJETPUS', '199413', '13319.051', '4',\n",
       "        'Electricity Net Generation From Other Gases, All Sectors',\n",
       "        'Million Kilowatthours'],\n",
       "       ['OJETPUS', '199513', '13869.951', '4',\n",
       "        'Electricity Net Generation From Other Gases, All Sectors',\n",
       "        'Million Kilowatthours'],\n",
       "       ['OJETPUS', '199613', '14355.813', '4',\n",
       "        'Electricity Net Generation From Other Gases, All Sectors',\n",
       "        'Million Kilowatthours'],\n",
       "       ['OJETPUS', '199713', '13350.634', '4',\n",
       "        'Electricity Net Generation From Other Gases, All Sectors',\n",
       "        'Million Kilowatthours'],\n",
       "       ['OJETPUS', '199813', '13492.23', '4',\n",
       "        'Electricity Net Generation From Other Gases, All Sectors',\n",
       "        'Million Kilowatthours'],\n",
       "       ['OJETPUS', '199913', '14125.592', '4',\n",
       "        'Electricity Net Generation From Other Gases, All Sectors',\n",
       "        'Million Kilowatthours'],\n",
       "       ['OJETPUS', '200013', '13954.758', '4',\n",
       "        'Electricity Net Generation From Other Gases, All Sectors',\n",
       "        'Million Kilowatthours'],\n",
       "       ['OJETPUS', '200113', '9039.473', '4',\n",
       "        'Electricity Net Generation From Other Gases, All Sectors',\n",
       "        'Million Kilowatthours'],\n",
       "       ['OJETPUS', '200213', '11462.684', '4',\n",
       "        'Electricity Net Generation From Other Gases, All Sectors',\n",
       "        'Million Kilowatthours'],\n",
       "       ['OJETPUS', '200313', '15600.022', '4',\n",
       "        'Electricity Net Generation From Other Gases, All Sectors',\n",
       "        'Million Kilowatthours'],\n",
       "       ['OJETPUS', '200413', '15252.431', '4',\n",
       "        'Electricity Net Generation From Other Gases, All Sectors',\n",
       "        'Million Kilowatthours'],\n",
       "       ['OJETPUS', '200513', '13464.144', '4',\n",
       "        'Electricity Net Generation From Other Gases, All Sectors',\n",
       "        'Million Kilowatthours'],\n",
       "       ['OJETPUS', '200613', '14176.808', '4',\n",
       "        'Electricity Net Generation From Other Gases, All Sectors',\n",
       "        'Million Kilowatthours'],\n",
       "       ['OJETPUS', '200713', '13453.354', '4',\n",
       "        'Electricity Net Generation From Other Gases, All Sectors',\n",
       "        'Million Kilowatthours'],\n",
       "       ['OJETPUS', '200813', '11706.876', '4',\n",
       "        'Electricity Net Generation From Other Gases, All Sectors',\n",
       "        'Million Kilowatthours'],\n",
       "       ['OJETPUS', '200913', '10632.107', '4',\n",
       "        'Electricity Net Generation From Other Gases, All Sectors',\n",
       "        'Million Kilowatthours'],\n",
       "       ['OJETPUS', '201013', '11312.787', '4',\n",
       "        'Electricity Net Generation From Other Gases, All Sectors',\n",
       "        'Million Kilowatthours'],\n",
       "       ['OJETPUS', '201113', '11566.2', '4',\n",
       "        'Electricity Net Generation From Other Gases, All Sectors',\n",
       "        'Million Kilowatthours'],\n",
       "       ['OJETPUS', '201213', '11897.585', '4',\n",
       "        'Electricity Net Generation From Other Gases, All Sectors',\n",
       "        'Million Kilowatthours'],\n",
       "       ['OJETPUS', '201313', '12852.937', '4',\n",
       "        'Electricity Net Generation From Other Gases, All Sectors',\n",
       "        'Million Kilowatthours'],\n",
       "       ['OJETPUS', '201413', '12021.786', '4',\n",
       "        'Electricity Net Generation From Other Gases, All Sectors',\n",
       "        'Million Kilowatthours'],\n",
       "       ['OJETPUS', '201513', '13116.698', '4',\n",
       "        'Electricity Net Generation From Other Gases, All Sectors',\n",
       "        'Million Kilowatthours'],\n",
       "       ['OJETPUS', '201613', '12807.432', '4',\n",
       "        'Electricity Net Generation From Other Gases, All Sectors',\n",
       "        'Million Kilowatthours'],\n",
       "       ['OJETPUS', '201713', '12468.967', '4',\n",
       "        'Electricity Net Generation From Other Gases, All Sectors',\n",
       "        'Million Kilowatthours'],\n",
       "       ['OJETPUS', '201813', '13462.749', '4',\n",
       "        'Electricity Net Generation From Other Gases, All Sectors',\n",
       "        'Million Kilowatthours'],\n",
       "       ['OJETPUS', '201913', '12591.094', '4',\n",
       "        'Electricity Net Generation From Other Gases, All Sectors',\n",
       "        'Million Kilowatthours'],\n",
       "       ['OJETPUS', '202013', '11818.478', '4',\n",
       "        'Electricity Net Generation From Other Gases, All Sectors',\n",
       "        'Million Kilowatthours'],\n",
       "       ['OJETPUS', '202113', '11397.237', '4',\n",
       "        'Electricity Net Generation From Other Gases, All Sectors',\n",
       "        'Million Kilowatthours']], dtype='<U80')"
      ]
     },
     "execution_count": 16,
     "metadata": {},
     "output_type": "execute_result"
    }
   ],
   "source": [
    "annual_other_gases_data"
   ]
  },
  {
   "cell_type": "markdown",
   "id": "e6829473",
   "metadata": {},
   "source": [
    "## Analysis"
   ]
  },
  {
   "cell_type": "code",
   "execution_count": 26,
   "id": "ee6bf535",
   "metadata": {
    "scrolled": true
   },
   "outputs": [
    {
     "data": {
      "text/plain": [
       "array([False, False, False, False, False, False, False, False, False,\n",
       "       False, False, False,  True, False, False, False, False, False,\n",
       "       False, False, False, False, False, False, False,  True, False,\n",
       "       False, False, False, False, False, False, False, False, False,\n",
       "       False, False,  True, False, False, False, False, False, False,\n",
       "       False, False, False, False, False, False,  True, False, False,\n",
       "       False, False, False, False, False, False, False, False, False,\n",
       "       False,  True, False, False, False, False, False, False, False,\n",
       "       False, False, False, False, False,  True, False, False, False,\n",
       "       False, False, False, False, False, False, False, False, False,\n",
       "        True, False, False, False, False, False, False, False, False,\n",
       "       False, False, False, False,  True, False, False, False, False,\n",
       "       False, False, False, False, False, False, False, False,  True,\n",
       "       False, False, False, False, False, False, False, False, False,\n",
       "       False, False, False,  True, False, False, False, False, False,\n",
       "       False, False, False, False, False, False, False,  True, False,\n",
       "       False, False, False, False, False, False, False, False, False,\n",
       "       False, False,  True, False, False, False, False, False, False,\n",
       "       False, False, False, False, False, False,  True, False, False,\n",
       "       False, False, False, False, False, False, False, False, False,\n",
       "       False,  True, False, False, False, False, False, False, False,\n",
       "       False, False, False, False, False,  True, False, False, False,\n",
       "       False, False, False, False, False, False, False, False, False,\n",
       "        True, False, False, False, False, False, False, False, False,\n",
       "       False, False, False, False,  True, False, False, False, False,\n",
       "       False, False, False, False, False, False, False, False,  True,\n",
       "       False, False, False, False, False, False, False, False, False,\n",
       "       False, False, False,  True, False, False, False, False, False,\n",
       "       False, False, False, False, False, False, False,  True, False,\n",
       "       False, False, False, False, False, False, False, False, False,\n",
       "       False, False,  True, False, False, False, False, False, False,\n",
       "       False, False, False, False, False, False,  True, False, False,\n",
       "       False, False, False, False, False, False, False, False, False,\n",
       "       False,  True, False, False, False, False, False, False, False,\n",
       "       False, False, False, False, False,  True, False, False, False,\n",
       "       False, False, False, False, False, False, False, False, False,\n",
       "        True, False, False, False, False, False, False, False, False,\n",
       "       False, False, False, False,  True, False, False, False, False,\n",
       "       False, False, False, False, False, False, False, False,  True,\n",
       "       False, False, False, False, False, False, False, False, False,\n",
       "       False, False, False,  True, False, False, False, False, False,\n",
       "       False, False, False, False, False, False, False,  True, False,\n",
       "       False, False, False, False, False, False, False, False, False,\n",
       "       False, False,  True, False, False, False, False, False, False,\n",
       "       False, False, False, False, False, False,  True, False, False,\n",
       "       False, False, False, False, False, False, False, False, False,\n",
       "       False,  True, False, False, False, False, False, False, False,\n",
       "       False, False, False, False, False,  True, False, False, False,\n",
       "       False, False, False, False, False, False, False, False])"
      ]
     },
     "execution_count": 26,
     "metadata": {},
     "output_type": "execute_result"
    }
   ],
   "source": [
    "np.array([x[-2:] == '13' for x in other_gases_data[:,1]])"
   ]
  },
  {
   "cell_type": "markdown",
   "id": "3c3d2aff",
   "metadata": {},
   "source": [
    "## Total Energy Generated"
   ]
  },
  {
   "cell_type": "code",
   "execution_count": 17,
   "id": "a99a91d9",
   "metadata": {},
   "outputs": [],
   "source": [
    "all_energy = annual_other_gases_data[:,2].astype(float)"
   ]
  },
  {
   "cell_type": "code",
   "execution_count": 18,
   "id": "e3d362c1",
   "metadata": {},
   "outputs": [
    {
     "name": "stdout",
     "output_type": "stream",
     "text": [
      "The total other_gases energy generated in USA between 1986 - 2021: 414376.754 killowatt per hours\n"
     ]
    }
   ],
   "source": [
    "print(\"The total other_gases energy generated in USA between 1986 - 2021: {} killowatt per hours\".format(all_energy.sum()))"
   ]
  },
  {
   "cell_type": "markdown",
   "id": "03470c44",
   "metadata": {},
   "source": [
    "## The Mean Of Other_Gases Energy Generated"
   ]
  },
  {
   "cell_type": "code",
   "execution_count": 19,
   "id": "5ea92ee4",
   "metadata": {},
   "outputs": [
    {
     "data": {
      "text/plain": [
       "12556.871333333334"
      ]
     },
     "execution_count": 19,
     "metadata": {},
     "output_type": "execute_result"
    }
   ],
   "source": [
    "all_energy.mean()"
   ]
  },
  {
   "cell_type": "markdown",
   "id": "eb53abcc",
   "metadata": {},
   "source": [
    "## The Standard Deviation"
   ]
  },
  {
   "cell_type": "code",
   "execution_count": 20,
   "id": "93568b56",
   "metadata": {},
   "outputs": [
    {
     "data": {
      "text/plain": [
       "1610.5050097493827"
      ]
     },
     "execution_count": 20,
     "metadata": {},
     "output_type": "execute_result"
    }
   ],
   "source": [
    "all_energy.std()"
   ]
  },
  {
   "cell_type": "code",
   "execution_count": 21,
   "id": "992e86e0",
   "metadata": {},
   "outputs": [
    {
     "data": {
      "text/plain": [
       "15600.022"
      ]
     },
     "execution_count": 21,
     "metadata": {},
     "output_type": "execute_result"
    }
   ],
   "source": [
    "all_energy.max()"
   ]
  },
  {
   "cell_type": "code",
   "execution_count": 22,
   "id": "705a7bd9",
   "metadata": {},
   "outputs": [
    {
     "data": {
      "text/plain": [
       "7862.418"
      ]
     },
     "execution_count": 22,
     "metadata": {},
     "output_type": "execute_result"
    }
   ],
   "source": [
    "all_energy.min()"
   ]
  },
  {
   "cell_type": "code",
   "execution_count": 23,
   "id": "db916507",
   "metadata": {},
   "outputs": [],
   "source": [
    "y = annual_other_gases_data[:,1] # year\n",
    "x = annual_other_gases_data[:,2] # energy"
   ]
  },
  {
   "cell_type": "code",
   "execution_count": 24,
   "id": "f366e21b",
   "metadata": {},
   "outputs": [
    {
     "data": {
      "image/png": "[encoded data removed]",
      "text/plain": [
       "<Figure size 432x288 with 1 Axes>"
      ]
     },
     "metadata": {
      "needs_background": "light"
     },
     "output_type": "display_data"
    }
   ],
   "source": [
    "plt.plot(y,x)\n",
    "plt.ylabel(\"Year\")\n",
    "plt.xlabel(\"Energy\")\n",
    "plt.show()"
   ]
  },
  {
   "cell_type": "code",
   "execution_count": null,
   "id": "7d0ff156",
   "metadata": {},
   "outputs": [],
   "source": []
  }
 ],
 "metadata": {
  "kernelspec": {
   "display_name": "Python 3 (ipykernel)",
   "language": "python",
   "name": "python3"
  },
  "language_info": {
   "codemirror_mode": {
    "name": "ipython",
    "version": 3
   },
   "file_extension": ".py",
   "mimetype": "text/x-python",
   "name": "python",
   "nbconvert_exporter": "python",
   "pygments_lexer": "ipython3",
   "version": "3.9.12"
  }
 },
 "nbformat": 4,
 "nbformat_minor": 5
}
