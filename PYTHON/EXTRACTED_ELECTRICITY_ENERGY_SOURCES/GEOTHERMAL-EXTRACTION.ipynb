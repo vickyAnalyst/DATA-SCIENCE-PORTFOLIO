{
 "cells": [
  {
   "cell_type": "markdown",
   "id": "c1018de5",
   "metadata": {},
   "source": [
    "## import Library"
   ]
  },
  {
   "cell_type": "code",
   "execution_count": 2,
   "id": "e80beaf5",
   "metadata": {},
   "outputs": [],
   "source": [
    "import numpy as np\n",
    "import matplotlib.pyplot as plt \n",
    "import csv"
   ]
  },
  {
   "cell_type": "markdown",
   "id": "073db970",
   "metadata": {},
   "source": [
    "## Import Dataset"
   ]
  },
  {
   "cell_type": "code",
   "execution_count": 3,
   "id": "1cc73e6d",
   "metadata": {},
   "outputs": [],
   "source": [
    "data = []\n",
    "\n",
    "# read the file \n",
    "with open(\"./raw_data.csv\", \"r\") as csvfile:\n",
    "    file_reader = csv.reader(csvfile)\n",
    "\n",
    "    for row in file_reader:\n",
    "        data.append(row)\n",
    "\n",
    "# change data into numpy array\n",
    "data = np.array(data)"
   ]
  },
  {
   "cell_type": "code",
   "execution_count": 4,
   "id": "cec77ac4",
   "metadata": {},
   "outputs": [],
   "source": [
    "data\n",
    "data.shape\n",
    "np.savetxt(\"raw_data.npy\",data, fmt=\"%s\", delimiter=\",\")"
   ]
  },
  {
   "cell_type": "code",
   "execution_count": 5,
   "id": "10de2fd3",
   "metadata": {},
   "outputs": [
    {
     "name": "stdout",
     "output_type": "stream",
     "text": [
      "Header:\n",
      " ['MSN' 'YYYYMM' 'Value' 'Column_Order' 'Description' 'Unit'] \n",
      "\n",
      " Values:\n",
      " [['CLETPUS' '194913' '135451.32' '1'\n",
      "  'Electricity Net Generation From Coal, All Sectors'\n",
      "  'Million Kilowatthours']\n",
      " ['CLETPUS' '195013' '154519.994' '1'\n",
      "  'Electricity Net Generation From Coal, All Sectors'\n",
      "  'Million Kilowatthours']\n",
      " ['CLETPUS' '195113' '185203.657' '1'\n",
      "  'Electricity Net Generation From Coal, All Sectors'\n",
      "  'Million Kilowatthours']\n",
      " ...\n",
      " ['ELETPUS' '202209' '350919.559' '13'\n",
      "  'Electricity Net Generation Total (including from sources not shown), All Sectors'\n",
      "  'Million Kilowatthours']\n",
      " ['ELETPUS' '202210' '314048.288' '13'\n",
      "  'Electricity Net Generation Total (including from sources not shown), All Sectors'\n",
      "  'Million Kilowatthours']\n",
      " ['ELETPUS' '202211' '323198.745' '13'\n",
      "  'Electricity Net Generation Total (including from sources not shown), All Sectors'\n",
      "  'Million Kilowatthours']]\n"
     ]
    }
   ],
   "source": [
    "header = data[0, :]\n",
    "values = data[1:, :]\n",
    "print(\"Header:\\n\", header, \"\\n\\n Values:\\n\", values)"
   ]
  },
  {
   "cell_type": "markdown",
   "id": "bd4b04a6",
   "metadata": {},
   "source": [
    "## Extract The Geothermal Energy Data"
   ]
  },
  {
   "cell_type": "code",
   "execution_count": 6,
   "id": "0225fdb4",
   "metadata": {
    "scrolled": true
   },
   "outputs": [
    {
     "name": "stdout",
     "output_type": "stream",
     "text": [
      "[False False False ... False False False]\n",
      "[['GEETPUS' '194913' 'Not Available' '10'\n",
      "  'Electricity Net Generation From Geothermal, All Sectors'\n",
      "  'Million Kilowatthours']\n",
      " ['GEETPUS' '195013' 'Not Available' '10'\n",
      "  'Electricity Net Generation From Geothermal, All Sectors'\n",
      "  'Million Kilowatthours']\n",
      " ['GEETPUS' '195113' 'Not Available' '10'\n",
      "  'Electricity Net Generation From Geothermal, All Sectors'\n",
      "  'Million Kilowatthours']\n",
      " ...\n",
      " ['GEETPUS' '202209' '1412.084' '10'\n",
      "  'Electricity Net Generation From Geothermal, All Sectors'\n",
      "  'Million Kilowatthours']\n",
      " ['GEETPUS' '202210' '1344.275' '10'\n",
      "  'Electricity Net Generation From Geothermal, All Sectors'\n",
      "  'Million Kilowatthours']\n",
      " ['GEETPUS' '202211' '1468.899' '10'\n",
      "  'Electricity Net Generation From Geothermal, All Sectors'\n",
      "  'Million Kilowatthours']]\n"
     ]
    },
    {
     "data": {
      "text/plain": [
       "(672, 6)"
      ]
     },
     "execution_count": 6,
     "metadata": {},
     "output_type": "execute_result"
    }
   ],
   "source": [
    "geothermal_cond = values[:,4] == \"Electricity Net Generation From Geothermal, All Sectors\"\n",
    "print(geothermal_cond)\n",
    "geothermal_data = values[geothermal_cond]\n",
    "print(geothermal_data)\n",
    "geothermal_data.shape"
   ]
  },
  {
   "cell_type": "code",
   "execution_count": 7,
   "id": "5db83112",
   "metadata": {
    "scrolled": true
   },
   "outputs": [
    {
     "data": {
      "text/plain": [
       "array([['GEETPUS', '194913', 'Not Available', '10',\n",
       "        'Electricity Net Generation From Geothermal, All Sectors',\n",
       "        'Million Kilowatthours'],\n",
       "       ['GEETPUS', '195013', 'Not Available', '10',\n",
       "        'Electricity Net Generation From Geothermal, All Sectors',\n",
       "        'Million Kilowatthours'],\n",
       "       ['GEETPUS', '195113', 'Not Available', '10',\n",
       "        'Electricity Net Generation From Geothermal, All Sectors',\n",
       "        'Million Kilowatthours'],\n",
       "       ...,\n",
       "       ['GEETPUS', '202209', '1412.084', '10',\n",
       "        'Electricity Net Generation From Geothermal, All Sectors',\n",
       "        'Million Kilowatthours'],\n",
       "       ['GEETPUS', '202210', '1344.275', '10',\n",
       "        'Electricity Net Generation From Geothermal, All Sectors',\n",
       "        'Million Kilowatthours'],\n",
       "       ['GEETPUS', '202211', '1468.899', '10',\n",
       "        'Electricity Net Generation From Geothermal, All Sectors',\n",
       "        'Million Kilowatthours']], dtype='<U80')"
      ]
     },
     "execution_count": 7,
     "metadata": {},
     "output_type": "execute_result"
    }
   ],
   "source": [
    "geothermal_data"
   ]
  },
  {
   "cell_type": "markdown",
   "id": "1046bef4",
   "metadata": {},
   "source": [
    "## Saving File"
   ]
  },
  {
   "cell_type": "code",
   "execution_count": 8,
   "id": "d5eed1f5",
   "metadata": {},
   "outputs": [],
   "source": [
    "np.savetxt(\"geothermal.csv\", data, fmt= \"%s\", delimiter=\",\")\n",
    "np.savetxt(\"geothermal.npy\", data, fmt= \"%s\", delimiter=\",\")"
   ]
  },
  {
   "cell_type": "markdown",
   "id": "e9c75c77",
   "metadata": {},
   "source": [
    "## EDA-Exploratory Data Analysis"
   ]
  },
  {
   "cell_type": "code",
   "execution_count": 9,
   "id": "123c9ee4",
   "metadata": {},
   "outputs": [
    {
     "name": "stdout",
     "output_type": "stream",
     "text": [
      "Row:  672\n",
      "colum:  6\n"
     ]
    }
   ],
   "source": [
    "# Return the shape of my data\n",
    "print(\"Row: \",geothermal_data.shape[0])\n",
    "print(\"colum: \",geothermal_data.shape[1])"
   ]
  },
  {
   "cell_type": "markdown",
   "id": "644af9a6",
   "metadata": {},
   "source": [
    "## Data Cleaning"
   ]
  },
  {
   "cell_type": "markdown",
   "id": "de85c326",
   "metadata": {},
   "source": [
    "in the value column, some data point include \"Not Availabe\" which means energy were not recorded under geothermal for that year."
   ]
  },
  {
   "cell_type": "code",
   "execution_count": 15,
   "id": "dc97003d",
   "metadata": {},
   "outputs": [
    {
     "data": {
      "text/plain": [
       "array(['194913', '195013', '195113', '195213', '195313', '195413',\n",
       "       '195513', '195613', '195713', '195813', '195913', '196013',\n",
       "       '196113', '196213', '196313', '196413', '196513', '196613',\n",
       "       '196713', '196813', '196913', '197013', '197113', '197213',\n",
       "       '197301', '197302', '197303', '197304', '197305', '197306',\n",
       "       '197307', '197308', '197309', '197310', '197311', '197312',\n",
       "       '197313', '197401', '197402', '197403', '197404', '197405',\n",
       "       '197406', '197407', '197408', '197409', '197410', '197411',\n",
       "       '197412', '197413', '197501', '197502', '197503', '197504',\n",
       "       '197505', '197506', '197507', '197508', '197509', '197510',\n",
       "       '197511', '197512', '197513', '197601', '197602', '197603',\n",
       "       '197604', '197605', '197606', '197607', '197608', '197609',\n",
       "       '197610', '197611', '197612', '197613', '197701', '197702',\n",
       "       '197703', '197704', '197705', '197706', '197707', '197708',\n",
       "       '197709', '197710', '197711', '197712', '197713', '197801',\n",
       "       '197802', '197803', '197804', '197805', '197806', '197807',\n",
       "       '197808', '197809', '197810', '197811', '197812', '197813',\n",
       "       '197901', '197902', '197903', '197904', '197905', '197906',\n",
       "       '197907', '197908', '197909', '197910', '197911', '197912',\n",
       "       '197913', '198001', '198002', '198003', '198004', '198005',\n",
       "       '198006', '198007', '198008', '198009', '198010', '198011',\n",
       "       '198012', '198013', '198101', '198102', '198103', '198104',\n",
       "       '198105', '198106', '198107', '198108', '198109', '198110',\n",
       "       '198111', '198112', '198113', '198201', '198202', '198203',\n",
       "       '198204', '198205', '198206', '198207', '198208', '198209',\n",
       "       '198210', '198211', '198212', '198213', '198301', '198302',\n",
       "       '198303', '198304', '198305', '198306', '198307', '198308',\n",
       "       '198309', '198310', '198311', '198312', '198313', '198401',\n",
       "       '198402', '198403', '198404', '198405', '198406', '198407',\n",
       "       '198408', '198409', '198410', '198411', '198412', '198413',\n",
       "       '198501', '198502', '198503', '198504', '198505', '198506',\n",
       "       '198507', '198508', '198509', '198510', '198511', '198512',\n",
       "       '198513', '198601', '198602', '198603', '198604', '198605',\n",
       "       '198606', '198607', '198608', '198609', '198610', '198611',\n",
       "       '198612', '198613', '198701', '198702', '198703', '198704',\n",
       "       '198705', '198706', '198707', '198708', '198709', '198710',\n",
       "       '198711', '198712', '198713', '198801', '198802', '198803',\n",
       "       '198804', '198805', '198806', '198807', '198808', '198809',\n",
       "       '198810', '198811', '198812', '198813', '198901', '198902',\n",
       "       '198903', '198904', '198905', '198906', '198907', '198908',\n",
       "       '198909', '198910', '198911', '198912', '198913', '199001',\n",
       "       '199002', '199003', '199004', '199005', '199006', '199007',\n",
       "       '199008', '199009', '199010', '199011', '199012', '199013',\n",
       "       '199101', '199102', '199103', '199104', '199105', '199106',\n",
       "       '199107', '199108', '199109', '199110', '199111', '199112',\n",
       "       '199113', '199201', '199202', '199203', '199204', '199205',\n",
       "       '199206', '199207', '199208', '199209', '199210', '199211',\n",
       "       '199212', '199213', '199301', '199302', '199303', '199304',\n",
       "       '199305', '199306', '199307', '199308', '199309', '199310',\n",
       "       '199311', '199312', '199313', '199401', '199402', '199403',\n",
       "       '199404', '199405', '199406', '199407', '199408', '199409',\n",
       "       '199410', '199411', '199412', '199413', '199501', '199502',\n",
       "       '199503', '199504', '199505', '199506', '199507', '199508',\n",
       "       '199509', '199510', '199511', '199512', '199513', '199601',\n",
       "       '199602', '199603', '199604', '199605', '199606', '199607',\n",
       "       '199608', '199609', '199610', '199611', '199612', '199613',\n",
       "       '199701', '199702', '199703', '199704', '199705', '199706',\n",
       "       '199707', '199708', '199709', '199710', '199711', '199712',\n",
       "       '199713', '199801', '199802', '199803', '199804', '199805',\n",
       "       '199806', '199807', '199808', '199809', '199810', '199811',\n",
       "       '199812', '199813', '199901', '199902', '199903', '199904',\n",
       "       '199905', '199906', '199907', '199908', '199909', '199910',\n",
       "       '199911', '199912', '199913', '200001', '200002', '200003',\n",
       "       '200004', '200005', '200006', '200007', '200008', '200009',\n",
       "       '200010', '200011', '200012', '200013', '200101', '200102',\n",
       "       '200103', '200104', '200105', '200106', '200107', '200108',\n",
       "       '200109', '200110', '200111', '200112', '200113', '200201',\n",
       "       '200202', '200203', '200204', '200205', '200206', '200207',\n",
       "       '200208', '200209', '200210', '200211', '200212', '200213',\n",
       "       '200301', '200302', '200303', '200304', '200305', '200306',\n",
       "       '200307', '200308', '200309', '200310', '200311', '200312',\n",
       "       '200313', '200401', '200402', '200403', '200404', '200405',\n",
       "       '200406', '200407', '200408', '200409', '200410', '200411',\n",
       "       '200412', '200413', '200501', '200502', '200503', '200504',\n",
       "       '200505', '200506', '200507', '200508', '200509', '200510',\n",
       "       '200511', '200512', '200513', '200601', '200602', '200603',\n",
       "       '200604', '200605', '200606', '200607', '200608', '200609',\n",
       "       '200610', '200611', '200612', '200613', '200701', '200702',\n",
       "       '200703', '200704', '200705', '200706', '200707', '200708',\n",
       "       '200709', '200710', '200711', '200712', '200713', '200801',\n",
       "       '200802', '200803', '200804', '200805', '200806', '200807',\n",
       "       '200808', '200809', '200810', '200811', '200812', '200813',\n",
       "       '200901', '200902', '200903', '200904', '200905', '200906',\n",
       "       '200907', '200908', '200909', '200910', '200911', '200912',\n",
       "       '200913', '201001', '201002', '201003', '201004', '201005',\n",
       "       '201006', '201007', '201008', '201009', '201010', '201011',\n",
       "       '201012', '201013', '201101', '201102', '201103', '201104',\n",
       "       '201105', '201106', '201107', '201108', '201109', '201110',\n",
       "       '201111', '201112', '201113', '201201', '201202', '201203',\n",
       "       '201204', '201205', '201206', '201207', '201208', '201209',\n",
       "       '201210', '201211', '201212', '201213', '201301', '201302',\n",
       "       '201303', '201304', '201305', '201306', '201307', '201308',\n",
       "       '201309', '201310', '201311', '201312', '201313', '201401',\n",
       "       '201402', '201403', '201404', '201405', '201406', '201407',\n",
       "       '201408', '201409', '201410', '201411', '201412', '201413',\n",
       "       '201501', '201502', '201503', '201504', '201505', '201506',\n",
       "       '201507', '201508', '201509', '201510', '201511', '201512',\n",
       "       '201513', '201601', '201602', '201603', '201604', '201605',\n",
       "       '201606', '201607', '201608', '201609', '201610', '201611',\n",
       "       '201612', '201613', '201701', '201702', '201703', '201704',\n",
       "       '201705', '201706', '201707', '201708', '201709', '201710',\n",
       "       '201711', '201712', '201713', '201801', '201802', '201803',\n",
       "       '201804', '201805', '201806', '201807', '201808', '201809',\n",
       "       '201810', '201811', '201812', '201813', '201901', '201902',\n",
       "       '201903', '201904', '201905', '201906', '201907', '201908',\n",
       "       '201909', '201910', '201911', '201912', '201913', '202001',\n",
       "       '202002', '202003', '202004', '202005', '202006', '202007',\n",
       "       '202008', '202009', '202010', '202011', '202012', '202013',\n",
       "       '202101', '202102', '202103', '202104', '202105', '202106',\n",
       "       '202107', '202108', '202109', '202110', '202111', '202112',\n",
       "       '202113', '202201', '202202', '202203', '202204', '202205',\n",
       "       '202206', '202207', '202208', '202209', '202210', '202211'],\n",
       "      dtype='<U80')"
      ]
     },
     "execution_count": 15,
     "metadata": {},
     "output_type": "execute_result"
    }
   ],
   "source": [
    "geothermal_data[:,1]"
   ]
  },
  {
   "cell_type": "code",
   "execution_count": 17,
   "id": "44af768a",
   "metadata": {},
   "outputs": [],
   "source": [
    "available_mask = geothermal_data[:,2] != \"Not Available\"\n",
    "\n",
    "geothermal_data = geothermal_data[available_mask]"
   ]
  },
  {
   "cell_type": "markdown",
   "id": "031088d1",
   "metadata": {},
   "source": [
    "## Save Clean Geothermal  Data"
   ]
  },
  {
   "cell_type": "code",
   "execution_count": 18,
   "id": "48930aed",
   "metadata": {},
   "outputs": [],
   "source": [
    "np.savetxt(\"geothermal.csv\", geothermal_data, fmt=\"%s\", delimiter=\",\")"
   ]
  },
  {
   "cell_type": "code",
   "execution_count": 19,
   "id": "fc75bfef",
   "metadata": {},
   "outputs": [],
   "source": [
    "annual_mask = np.array([x[-2:] == '13' for x in geothermal_data[:,1]])"
   ]
  },
  {
   "cell_type": "code",
   "execution_count": 20,
   "id": "3e0958c5",
   "metadata": {},
   "outputs": [],
   "source": [
    "annual_geothermal_data = geothermal_data[annual_mask]"
   ]
  },
  {
   "cell_type": "code",
   "execution_count": 21,
   "id": "5f07cfa6",
   "metadata": {},
   "outputs": [
    {
     "data": {
      "text/plain": [
       "array([['GEETPUS', '196013', '33.368', '10',\n",
       "        'Electricity Net Generation From Geothermal, All Sectors',\n",
       "        'Million Kilowatthours'],\n",
       "       ['GEETPUS', '196113', '94.021', '10',\n",
       "        'Electricity Net Generation From Geothermal, All Sectors',\n",
       "        'Million Kilowatthours'],\n",
       "       ['GEETPUS', '196213', '100.462', '10',\n",
       "        'Electricity Net Generation From Geothermal, All Sectors',\n",
       "        'Million Kilowatthours'],\n",
       "       ['GEETPUS', '196313', '167.953', '10',\n",
       "        'Electricity Net Generation From Geothermal, All Sectors',\n",
       "        'Million Kilowatthours'],\n",
       "       ['GEETPUS', '196413', '203.791', '10',\n",
       "        'Electricity Net Generation From Geothermal, All Sectors',\n",
       "        'Million Kilowatthours'],\n",
       "       ['GEETPUS', '196513', '189.214', '10',\n",
       "        'Electricity Net Generation From Geothermal, All Sectors',\n",
       "        'Million Kilowatthours'],\n",
       "       ['GEETPUS', '196613', '187.988', '10',\n",
       "        'Electricity Net Generation From Geothermal, All Sectors',\n",
       "        'Million Kilowatthours'],\n",
       "       ['GEETPUS', '196713', '316.309', '10',\n",
       "        'Electricity Net Generation From Geothermal, All Sectors',\n",
       "        'Million Kilowatthours'],\n",
       "       ['GEETPUS', '196813', '435.826', '10',\n",
       "        'Electricity Net Generation From Geothermal, All Sectors',\n",
       "        'Million Kilowatthours'],\n",
       "       ['GEETPUS', '196913', '614.71', '10',\n",
       "        'Electricity Net Generation From Geothermal, All Sectors',\n",
       "        'Million Kilowatthours'],\n",
       "       ['GEETPUS', '197013', '525.183', '10',\n",
       "        'Electricity Net Generation From Geothermal, All Sectors',\n",
       "        'Million Kilowatthours'],\n",
       "       ['GEETPUS', '197113', '547.752', '10',\n",
       "        'Electricity Net Generation From Geothermal, All Sectors',\n",
       "        'Million Kilowatthours'],\n",
       "       ['GEETPUS', '197213', '1452.795', '10',\n",
       "        'Electricity Net Generation From Geothermal, All Sectors',\n",
       "        'Million Kilowatthours'],\n",
       "       ['GEETPUS', '197313', '1965.713', '10',\n",
       "        'Electricity Net Generation From Geothermal, All Sectors',\n",
       "        'Million Kilowatthours'],\n",
       "       ['GEETPUS', '197413', '2452.636', '10',\n",
       "        'Electricity Net Generation From Geothermal, All Sectors',\n",
       "        'Million Kilowatthours'],\n",
       "       ['GEETPUS', '197513', '3246.172', '10',\n",
       "        'Electricity Net Generation From Geothermal, All Sectors',\n",
       "        'Million Kilowatthours'],\n",
       "       ['GEETPUS', '197613', '3616.407', '10',\n",
       "        'Electricity Net Generation From Geothermal, All Sectors',\n",
       "        'Million Kilowatthours'],\n",
       "       ['GEETPUS', '197713', '3582.335', '10',\n",
       "        'Electricity Net Generation From Geothermal, All Sectors',\n",
       "        'Million Kilowatthours'],\n",
       "       ['GEETPUS', '197813', '2977.63', '10',\n",
       "        'Electricity Net Generation From Geothermal, All Sectors',\n",
       "        'Million Kilowatthours'],\n",
       "       ['GEETPUS', '197913', '3888.968', '10',\n",
       "        'Electricity Net Generation From Geothermal, All Sectors',\n",
       "        'Million Kilowatthours'],\n",
       "       ['GEETPUS', '198013', '5073.079', '10',\n",
       "        'Electricity Net Generation From Geothermal, All Sectors',\n",
       "        'Million Kilowatthours'],\n",
       "       ['GEETPUS', '198113', '5686.163', '10',\n",
       "        'Electricity Net Generation From Geothermal, All Sectors',\n",
       "        'Million Kilowatthours'],\n",
       "       ['GEETPUS', '198213', '4842.865', '10',\n",
       "        'Electricity Net Generation From Geothermal, All Sectors',\n",
       "        'Million Kilowatthours'],\n",
       "       ['GEETPUS', '198313', '6075.101', '10',\n",
       "        'Electricity Net Generation From Geothermal, All Sectors',\n",
       "        'Million Kilowatthours'],\n",
       "       ['GEETPUS', '198413', '7740.504', '10',\n",
       "        'Electricity Net Generation From Geothermal, All Sectors',\n",
       "        'Million Kilowatthours'],\n",
       "       ['GEETPUS', '198513', '9325.23', '10',\n",
       "        'Electricity Net Generation From Geothermal, All Sectors',\n",
       "        'Million Kilowatthours'],\n",
       "       ['GEETPUS', '198613', '10307.954', '10',\n",
       "        'Electricity Net Generation From Geothermal, All Sectors',\n",
       "        'Million Kilowatthours'],\n",
       "       ['GEETPUS', '198713', '10775.461', '10',\n",
       "        'Electricity Net Generation From Geothermal, All Sectors',\n",
       "        'Million Kilowatthours'],\n",
       "       ['GEETPUS', '198813', '10300.079', '10',\n",
       "        'Electricity Net Generation From Geothermal, All Sectors',\n",
       "        'Million Kilowatthours'],\n",
       "       ['GEETPUS', '198913', '14593.443', '10',\n",
       "        'Electricity Net Generation From Geothermal, All Sectors',\n",
       "        'Million Kilowatthours'],\n",
       "       ['GEETPUS', '199013', '15434.271', '10',\n",
       "        'Electricity Net Generation From Geothermal, All Sectors',\n",
       "        'Million Kilowatthours'],\n",
       "       ['GEETPUS', '199113', '15966.444', '10',\n",
       "        'Electricity Net Generation From Geothermal, All Sectors',\n",
       "        'Million Kilowatthours'],\n",
       "       ['GEETPUS', '199213', '16137.962', '10',\n",
       "        'Electricity Net Generation From Geothermal, All Sectors',\n",
       "        'Million Kilowatthours'],\n",
       "       ['GEETPUS', '199313', '16788.565', '10',\n",
       "        'Electricity Net Generation From Geothermal, All Sectors',\n",
       "        'Million Kilowatthours'],\n",
       "       ['GEETPUS', '199413', '15535.453', '10',\n",
       "        'Electricity Net Generation From Geothermal, All Sectors',\n",
       "        'Million Kilowatthours'],\n",
       "       ['GEETPUS', '199513', '13378.258', '10',\n",
       "        'Electricity Net Generation From Geothermal, All Sectors',\n",
       "        'Million Kilowatthours'],\n",
       "       ['GEETPUS', '199613', '14328.684', '10',\n",
       "        'Electricity Net Generation From Geothermal, All Sectors',\n",
       "        'Million Kilowatthours'],\n",
       "       ['GEETPUS', '199713', '14726.102', '10',\n",
       "        'Electricity Net Generation From Geothermal, All Sectors',\n",
       "        'Million Kilowatthours'],\n",
       "       ['GEETPUS', '199813', '14773.918', '10',\n",
       "        'Electricity Net Generation From Geothermal, All Sectors',\n",
       "        'Million Kilowatthours'],\n",
       "       ['GEETPUS', '199913', '14827.013', '10',\n",
       "        'Electricity Net Generation From Geothermal, All Sectors',\n",
       "        'Million Kilowatthours'],\n",
       "       ['GEETPUS', '200013', '14093.158', '10',\n",
       "        'Electricity Net Generation From Geothermal, All Sectors',\n",
       "        'Million Kilowatthours'],\n",
       "       ['GEETPUS', '200113', '13740.501', '10',\n",
       "        'Electricity Net Generation From Geothermal, All Sectors',\n",
       "        'Million Kilowatthours'],\n",
       "       ['GEETPUS', '200213', '14491.31', '10',\n",
       "        'Electricity Net Generation From Geothermal, All Sectors',\n",
       "        'Million Kilowatthours'],\n",
       "       ['GEETPUS', '200313', '14424.231', '10',\n",
       "        'Electricity Net Generation From Geothermal, All Sectors',\n",
       "        'Million Kilowatthours'],\n",
       "       ['GEETPUS', '200413', '14810.975', '10',\n",
       "        'Electricity Net Generation From Geothermal, All Sectors',\n",
       "        'Million Kilowatthours'],\n",
       "       ['GEETPUS', '200513', '14691.745', '10',\n",
       "        'Electricity Net Generation From Geothermal, All Sectors',\n",
       "        'Million Kilowatthours'],\n",
       "       ['GEETPUS', '200613', '14568.029', '10',\n",
       "        'Electricity Net Generation From Geothermal, All Sectors',\n",
       "        'Million Kilowatthours'],\n",
       "       ['GEETPUS', '200713', '14637.213', '10',\n",
       "        'Electricity Net Generation From Geothermal, All Sectors',\n",
       "        'Million Kilowatthours'],\n",
       "       ['GEETPUS', '200813', '14839.977', '10',\n",
       "        'Electricity Net Generation From Geothermal, All Sectors',\n",
       "        'Million Kilowatthours'],\n",
       "       ['GEETPUS', '200913', '15008.658', '10',\n",
       "        'Electricity Net Generation From Geothermal, All Sectors',\n",
       "        'Million Kilowatthours'],\n",
       "       ['GEETPUS', '201013', '15219.213', '10',\n",
       "        'Electricity Net Generation From Geothermal, All Sectors',\n",
       "        'Million Kilowatthours'],\n",
       "       ['GEETPUS', '201113', '15316.068', '10',\n",
       "        'Electricity Net Generation From Geothermal, All Sectors',\n",
       "        'Million Kilowatthours'],\n",
       "       ['GEETPUS', '201213', '15562.426', '10',\n",
       "        'Electricity Net Generation From Geothermal, All Sectors',\n",
       "        'Million Kilowatthours'],\n",
       "       ['GEETPUS', '201313', '15774.674', '10',\n",
       "        'Electricity Net Generation From Geothermal, All Sectors',\n",
       "        'Million Kilowatthours'],\n",
       "       ['GEETPUS', '201413', '15876.941', '10',\n",
       "        'Electricity Net Generation From Geothermal, All Sectors',\n",
       "        'Million Kilowatthours'],\n",
       "       ['GEETPUS', '201513', '15917.575', '10',\n",
       "        'Electricity Net Generation From Geothermal, All Sectors',\n",
       "        'Million Kilowatthours'],\n",
       "       ['GEETPUS', '201613', '15825.807', '10',\n",
       "        'Electricity Net Generation From Geothermal, All Sectors',\n",
       "        'Million Kilowatthours'],\n",
       "       ['GEETPUS', '201713', '15926.774', '10',\n",
       "        'Electricity Net Generation From Geothermal, All Sectors',\n",
       "        'Million Kilowatthours'],\n",
       "       ['GEETPUS', '201813', '15967.134', '10',\n",
       "        'Electricity Net Generation From Geothermal, All Sectors',\n",
       "        'Million Kilowatthours'],\n",
       "       ['GEETPUS', '201913', '15472.717', '10',\n",
       "        'Electricity Net Generation From Geothermal, All Sectors',\n",
       "        'Million Kilowatthours'],\n",
       "       ['GEETPUS', '202013', '15889.697', '10',\n",
       "        'Electricity Net Generation From Geothermal, All Sectors',\n",
       "        'Million Kilowatthours'],\n",
       "       ['GEETPUS', '202113', '15974.767', '10',\n",
       "        'Electricity Net Generation From Geothermal, All Sectors',\n",
       "        'Million Kilowatthours']], dtype='<U80')"
      ]
     },
     "execution_count": 21,
     "metadata": {},
     "output_type": "execute_result"
    }
   ],
   "source": [
    "annual_geothermal_data"
   ]
  },
  {
   "cell_type": "markdown",
   "id": "73fc3abf",
   "metadata": {},
   "source": [
    "## Analysis"
   ]
  },
  {
   "cell_type": "code",
   "execution_count": 23,
   "id": "a32f748c",
   "metadata": {
    "scrolled": true
   },
   "outputs": [
    {
     "data": {
      "text/plain": [
       "array([False, False, False, False, False, False, False, False, False,\n",
       "       False, False, False, False, False, False, False, False, False,\n",
       "       False, False, False, False, False, False, False, False, False,\n",
       "       False, False, False, False, False, False, False, False, False,\n",
       "       False, False, False, False, False, False, False, False, False,\n",
       "       False, False, False, False, False, False, False, False, False,\n",
       "       False, False, False, False, False, False, False, False, False,\n",
       "       False, False, False, False, False, False, False, False, False,\n",
       "       False, False, False, False, False, False, False, False, False,\n",
       "       False, False, False, False, False, False, False, False, False,\n",
       "       False, False, False, False, False, False, False, False, False,\n",
       "       False, False, False, False, False, False, False, False, False,\n",
       "       False, False, False, False, False, False, False, False, False,\n",
       "       False, False, False, False, False, False, False, False, False,\n",
       "       False, False, False, False, False, False, False, False, False,\n",
       "       False, False, False, False, False, False, False, False, False,\n",
       "       False, False, False, False, False, False, False, False, False,\n",
       "       False, False, False, False, False, False, False, False, False,\n",
       "       False, False, False, False, False, False, False, False, False,\n",
       "       False, False, False, False, False, False, False, False, False,\n",
       "       False, False, False, False, False, False, False, False, False,\n",
       "       False, False, False, False, False, False, False, False, False,\n",
       "       False, False, False, False, False, False, False, False, False,\n",
       "       False, False, False, False, False, False, False, False, False,\n",
       "       False, False, False, False, False, False, False, False, False,\n",
       "       False, False, False, False, False, False, False, False, False,\n",
       "       False, False, False, False, False, False, False, False, False,\n",
       "       False, False, False, False, False, False, False, False, False,\n",
       "       False, False, False, False, False, False, False, False, False,\n",
       "       False, False, False, False, False, False, False, False, False,\n",
       "       False, False, False, False, False, False, False, False, False,\n",
       "       False, False, False, False, False, False, False, False, False,\n",
       "       False, False, False, False, False, False, False, False, False,\n",
       "       False, False, False, False, False, False, False, False, False,\n",
       "       False, False, False, False, False, False, False, False, False,\n",
       "       False, False, False, False, False, False, False, False, False,\n",
       "       False, False, False, False, False, False, False, False, False,\n",
       "       False, False, False, False, False, False, False, False, False,\n",
       "       False, False, False, False, False, False, False, False, False,\n",
       "       False, False, False, False, False, False, False, False, False,\n",
       "       False, False, False, False, False, False, False, False, False,\n",
       "       False, False, False, False, False, False, False, False, False,\n",
       "       False, False, False, False, False, False, False, False, False,\n",
       "       False, False, False, False, False, False, False, False, False,\n",
       "       False, False, False, False, False, False, False, False, False,\n",
       "       False, False, False, False, False, False, False, False, False,\n",
       "       False, False, False, False, False, False, False, False, False,\n",
       "       False, False, False, False, False, False, False, False, False,\n",
       "       False, False, False, False, False, False, False, False, False,\n",
       "       False, False, False, False, False, False, False, False, False,\n",
       "       False, False, False, False, False, False, False, False, False,\n",
       "       False, False, False, False, False, False, False, False, False,\n",
       "       False, False, False, False, False, False, False, False, False,\n",
       "       False, False, False, False, False, False, False, False, False,\n",
       "       False, False, False, False, False, False, False, False, False,\n",
       "       False, False, False, False, False, False, False, False, False,\n",
       "       False, False, False, False, False, False, False, False, False,\n",
       "       False, False, False, False, False, False, False, False, False,\n",
       "       False, False, False, False, False, False, False, False, False,\n",
       "       False, False, False, False, False, False, False, False, False,\n",
       "       False, False, False, False, False, False, False, False, False,\n",
       "       False, False, False, False, False, False, False, False, False,\n",
       "       False, False, False, False, False, False, False, False, False,\n",
       "       False, False, False, False, False, False, False, False, False,\n",
       "       False, False, False, False, False, False, False, False, False,\n",
       "       False, False, False, False, False, False, False, False, False,\n",
       "       False, False, False, False, False, False, False, False, False,\n",
       "       False, False, False, False, False, False, False, False, False,\n",
       "       False, False, False, False, False, False, False, False, False,\n",
       "       False, False, False, False, False, False, False, False, False,\n",
       "       False, False, False, False, False, False, False, False, False,\n",
       "       False, False, False, False, False, False, False, False, False,\n",
       "       False, False, False, False, False, False, False, False, False,\n",
       "       False, False, False, False])"
      ]
     },
     "execution_count": 23,
     "metadata": {},
     "output_type": "execute_result"
    }
   ],
   "source": [
    "np.array([x[2:] == '13' for x in geothermal_data[:,1]])"
   ]
  },
  {
   "cell_type": "markdown",
   "id": "253b119b",
   "metadata": {},
   "source": [
    "##  Total Energy Generated"
   ]
  },
  {
   "cell_type": "code",
   "execution_count": 24,
   "id": "c98bd84b",
   "metadata": {},
   "outputs": [],
   "source": [
    "all_energy = annual_geothermal_data[:,2].astype(float)"
   ]
  },
  {
   "cell_type": "code",
   "execution_count": 25,
   "id": "ed0893cb",
   "metadata": {},
   "outputs": [
    {
     "name": "stdout",
     "output_type": "stream",
     "text": [
      "The total geothermal energy generated in USA between 1986 - 2021: 597245.372 killowatt per hours\n"
     ]
    }
   ],
   "source": [
    "print(\"The total geothermal energy generated in USA between 1986 - 2021: {} killowatt per hours\".format(all_energy.sum()))"
   ]
  },
  {
   "cell_type": "markdown",
   "id": "7931d68c",
   "metadata": {},
   "source": [
    "## The Mean of Energy Generated"
   ]
  },
  {
   "cell_type": "code",
   "execution_count": 26,
   "id": "cfc5987f",
   "metadata": {},
   "outputs": [
    {
     "data": {
      "text/plain": [
       "9632.989870967742"
      ]
     },
     "execution_count": 26,
     "metadata": {},
     "output_type": "execute_result"
    }
   ],
   "source": [
    "all_energy.mean()"
   ]
  },
  {
   "cell_type": "markdown",
   "id": "c2d77ab2",
   "metadata": {},
   "source": [
    "## The Standard Deviation"
   ]
  },
  {
   "cell_type": "code",
   "execution_count": 27,
   "id": "3e517e8a",
   "metadata": {},
   "outputs": [
    {
     "data": {
      "text/plain": [
       "6381.453179198103"
      ]
     },
     "execution_count": 27,
     "metadata": {},
     "output_type": "execute_result"
    }
   ],
   "source": [
    "all_energy.std()"
   ]
  },
  {
   "cell_type": "code",
   "execution_count": 28,
   "id": "3d73e387",
   "metadata": {},
   "outputs": [
    {
     "data": {
      "text/plain": [
       "16788.565"
      ]
     },
     "execution_count": 28,
     "metadata": {},
     "output_type": "execute_result"
    }
   ],
   "source": [
    "all_energy.max()"
   ]
  },
  {
   "cell_type": "code",
   "execution_count": 29,
   "id": "c67be601",
   "metadata": {},
   "outputs": [
    {
     "data": {
      "text/plain": [
       "33.368"
      ]
     },
     "execution_count": 29,
     "metadata": {},
     "output_type": "execute_result"
    }
   ],
   "source": [
    "all_energy.min()"
   ]
  },
  {
   "cell_type": "code",
   "execution_count": 31,
   "id": "1c2eb5fa",
   "metadata": {},
   "outputs": [],
   "source": [
    "x = annual_geothermal_data[:,1] # year\n",
    "y = annual_geothermal_data[:,2] # energy"
   ]
  },
  {
   "cell_type": "code",
   "execution_count": 35,
   "id": "d87f714c",
   "metadata": {},
   "outputs": [
    {
     "data": {
      "image/png": "[encoded data removed]",
      "text/plain": [
       "<Figure size 432x288 with 1 Axes>"
      ]
     },
     "metadata": {
      "needs_background": "light"
     },
     "output_type": "display_data"
    }
   ],
   "source": [
    "plt.plot(x,y)\n",
    "plt.xlabel(\"Year\")\n",
    "plt.ylabel(\"Energy Generated\")\n",
    "plt.show()"
   ]
  },
  {
   "cell_type": "code",
   "execution_count": null,
   "id": "2e92a635",
   "metadata": {},
   "outputs": [],
   "source": []
  }
 ],
 "metadata": {
  "kernelspec": {
   "display_name": "Python 3 (ipykernel)",
   "language": "python",
   "name": "python3"
  },
  "language_info": {
   "codemirror_mode": {
    "name": "ipython",
    "version": 3
   },
   "file_extension": ".py",
   "mimetype": "text/x-python",
   "name": "python",
   "nbconvert_exporter": "python",
   "pygments_lexer": "ipython3",
   "version": "3.9.12"
  }
 },
 "nbformat": 4,
 "nbformat_minor": 5
}
