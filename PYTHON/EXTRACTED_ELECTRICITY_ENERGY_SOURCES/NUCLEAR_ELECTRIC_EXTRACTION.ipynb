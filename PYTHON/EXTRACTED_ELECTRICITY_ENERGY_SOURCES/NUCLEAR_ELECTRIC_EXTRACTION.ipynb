{
 "cells": [
  {
   "cell_type": "markdown",
   "id": "be2a6e8f",
   "metadata": {},
   "source": [
    "## import Library"
   ]
  },
  {
   "cell_type": "code",
   "execution_count": 46,
   "id": "8f1a3d6b",
   "metadata": {},
   "outputs": [],
   "source": [
    "import numpy as np\n",
    "import matplotlib.pyplot as plt \n",
    "import csv"
   ]
  },
  {
   "cell_type": "markdown",
   "id": "c661fa31",
   "metadata": {},
   "source": [
    "## IMPORT DATA SET"
   ]
  },
  {
   "cell_type": "code",
   "execution_count": 47,
   "id": "23be1090",
   "metadata": {},
   "outputs": [],
   "source": [
    "data = []\n",
    "\n",
    "# read the file \n",
    "with open(\"./raw_data.csv\", \"r\") as csvfile:\n",
    "    file_reader = csv.reader(csvfile)\n",
    "\n",
    "    for row in file_reader:\n",
    "        data.append(row)\n",
    "\n",
    "# change data into numpy array\n",
    "data = np.array(data)"
   ]
  },
  {
   "cell_type": "code",
   "execution_count": 48,
   "id": "ba9f9234",
   "metadata": {},
   "outputs": [],
   "source": [
    "data\n",
    "data.shape\n",
    "np.savetxt(\"raw_data.npy\",data, fmt=\"%s\", delimiter=\",\")"
   ]
  },
  {
   "cell_type": "code",
   "execution_count": 49,
   "id": "785fab14",
   "metadata": {},
   "outputs": [
    {
     "name": "stdout",
     "output_type": "stream",
     "text": [
      "Header:\n",
      " ['MSN' 'YYYYMM' 'Value' 'Column_Order' 'Description' 'Unit'] \n",
      "\n",
      " Values:\n",
      " [['CLETPUS' '194913' '135451.32' '1'\n",
      "  'Electricity Net Generation From Coal, All Sectors'\n",
      "  'Million Kilowatthours']\n",
      " ['CLETPUS' '195013' '154519.994' '1'\n",
      "  'Electricity Net Generation From Coal, All Sectors'\n",
      "  'Million Kilowatthours']\n",
      " ['CLETPUS' '195113' '185203.657' '1'\n",
      "  'Electricity Net Generation From Coal, All Sectors'\n",
      "  'Million Kilowatthours']\n",
      " ...\n",
      " ['ELETPUS' '202209' '350919.559' '13'\n",
      "  'Electricity Net Generation Total (including from sources not shown), All Sectors'\n",
      "  'Million Kilowatthours']\n",
      " ['ELETPUS' '202210' '314048.288' '13'\n",
      "  'Electricity Net Generation Total (including from sources not shown), All Sectors'\n",
      "  'Million Kilowatthours']\n",
      " ['ELETPUS' '202211' '323198.745' '13'\n",
      "  'Electricity Net Generation Total (including from sources not shown), All Sectors'\n",
      "  'Million Kilowatthours']]\n"
     ]
    }
   ],
   "source": [
    "header = data[0, :]\n",
    "values = data[1:, :]\n",
    "print(\"Header:\\n\", header, \"\\n\\n Values:\\n\", values)"
   ]
  },
  {
   "cell_type": "markdown",
   "id": "0744da39",
   "metadata": {},
   "source": [
    "## Extract The Nuclear_Electric_power Data"
   ]
  },
  {
   "cell_type": "code",
   "execution_count": 55,
   "id": "eefc7f65",
   "metadata": {},
   "outputs": [
    {
     "name": "stdout",
     "output_type": "stream",
     "text": [
      "[False False False ... False False False]\n",
      "[['NUETPUS' '194913' '0' '5'\n",
      "  'Electricity Net Generation From Nuclear Electric Power, All Sectors'\n",
      "  'Million Kilowatthours']\n",
      " ['NUETPUS' '195013' '0' '5'\n",
      "  'Electricity Net Generation From Nuclear Electric Power, All Sectors'\n",
      "  'Million Kilowatthours']\n",
      " ['NUETPUS' '195113' '0' '5'\n",
      "  'Electricity Net Generation From Nuclear Electric Power, All Sectors'\n",
      "  'Million Kilowatthours']\n",
      " ...\n",
      " ['NUETPUS' '202209' '63733.186' '5'\n",
      "  'Electricity Net Generation From Nuclear Electric Power, All Sectors'\n",
      "  'Million Kilowatthours']\n",
      " ['NUETPUS' '202210' '58945.383' '5'\n",
      "  'Electricity Net Generation From Nuclear Electric Power, All Sectors'\n",
      "  'Million Kilowatthours']\n",
      " ['NUETPUS' '202211' '62041.287' '5'\n",
      "  'Electricity Net Generation From Nuclear Electric Power, All Sectors'\n",
      "  'Million Kilowatthours']]\n"
     ]
    },
    {
     "data": {
      "text/plain": [
       "(672, 6)"
      ]
     },
     "execution_count": 55,
     "metadata": {},
     "output_type": "execute_result"
    }
   ],
   "source": [
    "nuclear_cond = values[:,4] == \"Electricity Net Generation From Nuclear Electric Power, All Sectors\"\n",
    "print(nuclear_cond)\n",
    "nuclear_data = values[nuclear_cond]\n",
    "print(nuclear_data)\n",
    "nuclear_data.shape"
   ]
  },
  {
   "cell_type": "code",
   "execution_count": 57,
   "id": "b62351e7",
   "metadata": {
    "scrolled": true
   },
   "outputs": [
    {
     "data": {
      "text/plain": [
       "array([['NUETPUS', '194913', '0', '5',\n",
       "        'Electricity Net Generation From Nuclear Electric Power, All Sectors',\n",
       "        'Million Kilowatthours'],\n",
       "       ['NUETPUS', '195013', '0', '5',\n",
       "        'Electricity Net Generation From Nuclear Electric Power, All Sectors',\n",
       "        'Million Kilowatthours'],\n",
       "       ['NUETPUS', '195113', '0', '5',\n",
       "        'Electricity Net Generation From Nuclear Electric Power, All Sectors',\n",
       "        'Million Kilowatthours'],\n",
       "       ...,\n",
       "       ['NUETPUS', '202209', '63733.186', '5',\n",
       "        'Electricity Net Generation From Nuclear Electric Power, All Sectors',\n",
       "        'Million Kilowatthours'],\n",
       "       ['NUETPUS', '202210', '58945.383', '5',\n",
       "        'Electricity Net Generation From Nuclear Electric Power, All Sectors',\n",
       "        'Million Kilowatthours'],\n",
       "       ['NUETPUS', '202211', '62041.287', '5',\n",
       "        'Electricity Net Generation From Nuclear Electric Power, All Sectors',\n",
       "        'Million Kilowatthours']], dtype='<U80')"
      ]
     },
     "execution_count": 57,
     "metadata": {},
     "output_type": "execute_result"
    }
   ],
   "source": [
    "nuclear_data"
   ]
  },
  {
   "cell_type": "markdown",
   "id": "fc30d449",
   "metadata": {},
   "source": [
    "## Saving File"
   ]
  },
  {
   "cell_type": "code",
   "execution_count": null,
   "id": "b02484d9",
   "metadata": {},
   "outputs": [],
   "source": [
    "np.savetxt(\"nuclear_energy.npy\", natural_gas_data, fmt=\"%s\", delimiter=\",\")\n",
    "np.savetxt(\"nuclear_energy.csv\", natural_gas_data, fmt=\"%s\", delimiter=\",\")"
   ]
  },
  {
   "cell_type": "markdown",
   "id": "eca5ad55",
   "metadata": {},
   "source": [
    "## EDA-Exploratory Data Analysis"
   ]
  },
  {
   "cell_type": "code",
   "execution_count": 58,
   "id": "03b32800",
   "metadata": {},
   "outputs": [
    {
     "name": "stdout",
     "output_type": "stream",
     "text": [
      "Row:  672\n",
      "colum:  6\n"
     ]
    }
   ],
   "source": [
    "# Return the shape of my data\n",
    "print(\"Row: \",nuclear_data.shape[0])\n",
    "print(\"colum: \",nuclear_data.shape[1])"
   ]
  },
  {
   "cell_type": "markdown",
   "id": "ff3074d2",
   "metadata": {},
   "source": [
    "## Data Cleaning"
   ]
  },
  {
   "cell_type": "markdown",
   "id": "491de091",
   "metadata": {},
   "source": [
    "in the value column, some data point include \"Not Availabe\" which means energy were not recorded under nuclear_data for that year."
   ]
  },
  {
   "cell_type": "code",
   "execution_count": 59,
   "id": "39994415",
   "metadata": {},
   "outputs": [
    {
     "data": {
      "text/plain": [
       "array(['194913', '195013', '195113', '195213', '195313', '195413',\n",
       "       '195513', '195613', '195713', '195813', '195913', '196013',\n",
       "       '196113', '196213', '196313', '196413', '196513', '196613',\n",
       "       '196713', '196813', '196913', '197013', '197113', '197213',\n",
       "       '197301', '197302', '197303', '197304', '197305', '197306',\n",
       "       '197307', '197308', '197309', '197310', '197311', '197312',\n",
       "       '197313', '197401', '197402', '197403', '197404', '197405',\n",
       "       '197406', '197407', '197408', '197409', '197410', '197411',\n",
       "       '197412', '197413', '197501', '197502', '197503', '197504',\n",
       "       '197505', '197506', '197507', '197508', '197509', '197510',\n",
       "       '197511', '197512', '197513', '197601', '197602', '197603',\n",
       "       '197604', '197605', '197606', '197607', '197608', '197609',\n",
       "       '197610', '197611', '197612', '197613', '197701', '197702',\n",
       "       '197703', '197704', '197705', '197706', '197707', '197708',\n",
       "       '197709', '197710', '197711', '197712', '197713', '197801',\n",
       "       '197802', '197803', '197804', '197805', '197806', '197807',\n",
       "       '197808', '197809', '197810', '197811', '197812', '197813',\n",
       "       '197901', '197902', '197903', '197904', '197905', '197906',\n",
       "       '197907', '197908', '197909', '197910', '197911', '197912',\n",
       "       '197913', '198001', '198002', '198003', '198004', '198005',\n",
       "       '198006', '198007', '198008', '198009', '198010', '198011',\n",
       "       '198012', '198013', '198101', '198102', '198103', '198104',\n",
       "       '198105', '198106', '198107', '198108', '198109', '198110',\n",
       "       '198111', '198112', '198113', '198201', '198202', '198203',\n",
       "       '198204', '198205', '198206', '198207', '198208', '198209',\n",
       "       '198210', '198211', '198212', '198213', '198301', '198302',\n",
       "       '198303', '198304', '198305', '198306', '198307', '198308',\n",
       "       '198309', '198310', '198311', '198312', '198313', '198401',\n",
       "       '198402', '198403', '198404', '198405', '198406', '198407',\n",
       "       '198408', '198409', '198410', '198411', '198412', '198413',\n",
       "       '198501', '198502', '198503', '198504', '198505', '198506',\n",
       "       '198507', '198508', '198509', '198510', '198511', '198512',\n",
       "       '198513', '198601', '198602', '198603', '198604', '198605',\n",
       "       '198606', '198607', '198608', '198609', '198610', '198611',\n",
       "       '198612', '198613', '198701', '198702', '198703', '198704',\n",
       "       '198705', '198706', '198707', '198708', '198709', '198710',\n",
       "       '198711', '198712', '198713', '198801', '198802', '198803',\n",
       "       '198804', '198805', '198806', '198807', '198808', '198809',\n",
       "       '198810', '198811', '198812', '198813', '198901', '198902',\n",
       "       '198903', '198904', '198905', '198906', '198907', '198908',\n",
       "       '198909', '198910', '198911', '198912', '198913', '199001',\n",
       "       '199002', '199003', '199004', '199005', '199006', '199007',\n",
       "       '199008', '199009', '199010', '199011', '199012', '199013',\n",
       "       '199101', '199102', '199103', '199104', '199105', '199106',\n",
       "       '199107', '199108', '199109', '199110', '199111', '199112',\n",
       "       '199113', '199201', '199202', '199203', '199204', '199205',\n",
       "       '199206', '199207', '199208', '199209', '199210', '199211',\n",
       "       '199212', '199213', '199301', '199302', '199303', '199304',\n",
       "       '199305', '199306', '199307', '199308', '199309', '199310',\n",
       "       '199311', '199312', '199313', '199401', '199402', '199403',\n",
       "       '199404', '199405', '199406', '199407', '199408', '199409',\n",
       "       '199410', '199411', '199412', '199413', '199501', '199502',\n",
       "       '199503', '199504', '199505', '199506', '199507', '199508',\n",
       "       '199509', '199510', '199511', '199512', '199513', '199601',\n",
       "       '199602', '199603', '199604', '199605', '199606', '199607',\n",
       "       '199608', '199609', '199610', '199611', '199612', '199613',\n",
       "       '199701', '199702', '199703', '199704', '199705', '199706',\n",
       "       '199707', '199708', '199709', '199710', '199711', '199712',\n",
       "       '199713', '199801', '199802', '199803', '199804', '199805',\n",
       "       '199806', '199807', '199808', '199809', '199810', '199811',\n",
       "       '199812', '199813', '199901', '199902', '199903', '199904',\n",
       "       '199905', '199906', '199907', '199908', '199909', '199910',\n",
       "       '199911', '199912', '199913', '200001', '200002', '200003',\n",
       "       '200004', '200005', '200006', '200007', '200008', '200009',\n",
       "       '200010', '200011', '200012', '200013', '200101', '200102',\n",
       "       '200103', '200104', '200105', '200106', '200107', '200108',\n",
       "       '200109', '200110', '200111', '200112', '200113', '200201',\n",
       "       '200202', '200203', '200204', '200205', '200206', '200207',\n",
       "       '200208', '200209', '200210', '200211', '200212', '200213',\n",
       "       '200301', '200302', '200303', '200304', '200305', '200306',\n",
       "       '200307', '200308', '200309', '200310', '200311', '200312',\n",
       "       '200313', '200401', '200402', '200403', '200404', '200405',\n",
       "       '200406', '200407', '200408', '200409', '200410', '200411',\n",
       "       '200412', '200413', '200501', '200502', '200503', '200504',\n",
       "       '200505', '200506', '200507', '200508', '200509', '200510',\n",
       "       '200511', '200512', '200513', '200601', '200602', '200603',\n",
       "       '200604', '200605', '200606', '200607', '200608', '200609',\n",
       "       '200610', '200611', '200612', '200613', '200701', '200702',\n",
       "       '200703', '200704', '200705', '200706', '200707', '200708',\n",
       "       '200709', '200710', '200711', '200712', '200713', '200801',\n",
       "       '200802', '200803', '200804', '200805', '200806', '200807',\n",
       "       '200808', '200809', '200810', '200811', '200812', '200813',\n",
       "       '200901', '200902', '200903', '200904', '200905', '200906',\n",
       "       '200907', '200908', '200909', '200910', '200911', '200912',\n",
       "       '200913', '201001', '201002', '201003', '201004', '201005',\n",
       "       '201006', '201007', '201008', '201009', '201010', '201011',\n",
       "       '201012', '201013', '201101', '201102', '201103', '201104',\n",
       "       '201105', '201106', '201107', '201108', '201109', '201110',\n",
       "       '201111', '201112', '201113', '201201', '201202', '201203',\n",
       "       '201204', '201205', '201206', '201207', '201208', '201209',\n",
       "       '201210', '201211', '201212', '201213', '201301', '201302',\n",
       "       '201303', '201304', '201305', '201306', '201307', '201308',\n",
       "       '201309', '201310', '201311', '201312', '201313', '201401',\n",
       "       '201402', '201403', '201404', '201405', '201406', '201407',\n",
       "       '201408', '201409', '201410', '201411', '201412', '201413',\n",
       "       '201501', '201502', '201503', '201504', '201505', '201506',\n",
       "       '201507', '201508', '201509', '201510', '201511', '201512',\n",
       "       '201513', '201601', '201602', '201603', '201604', '201605',\n",
       "       '201606', '201607', '201608', '201609', '201610', '201611',\n",
       "       '201612', '201613', '201701', '201702', '201703', '201704',\n",
       "       '201705', '201706', '201707', '201708', '201709', '201710',\n",
       "       '201711', '201712', '201713', '201801', '201802', '201803',\n",
       "       '201804', '201805', '201806', '201807', '201808', '201809',\n",
       "       '201810', '201811', '201812', '201813', '201901', '201902',\n",
       "       '201903', '201904', '201905', '201906', '201907', '201908',\n",
       "       '201909', '201910', '201911', '201912', '201913', '202001',\n",
       "       '202002', '202003', '202004', '202005', '202006', '202007',\n",
       "       '202008', '202009', '202010', '202011', '202012', '202013',\n",
       "       '202101', '202102', '202103', '202104', '202105', '202106',\n",
       "       '202107', '202108', '202109', '202110', '202111', '202112',\n",
       "       '202113', '202201', '202202', '202203', '202204', '202205',\n",
       "       '202206', '202207', '202208', '202209', '202210', '202211'],\n",
       "      dtype='<U80')"
      ]
     },
     "execution_count": 59,
     "metadata": {},
     "output_type": "execute_result"
    }
   ],
   "source": [
    "nuclear_data[:,1]"
   ]
  },
  {
   "cell_type": "code",
   "execution_count": 62,
   "id": "94b59632",
   "metadata": {},
   "outputs": [],
   "source": [
    "available_mask = nuclear_data[:,2] != \"Not Available\"\n",
    "nuclear_data =nuclear_data[available_mask]"
   ]
  },
  {
   "cell_type": "markdown",
   "id": "2f82e99b",
   "metadata": {},
   "source": [
    "## Save Clean Nuclear_Gas Data"
   ]
  },
  {
   "cell_type": "code",
   "execution_count": 63,
   "id": "2f65e10d",
   "metadata": {},
   "outputs": [],
   "source": [
    "np.savetxt(\"nuclear_data.csv\", nuclear_data, fmt=\"%s\", delimiter=\",\")"
   ]
  },
  {
   "cell_type": "code",
   "execution_count": 64,
   "id": "632a3c7d",
   "metadata": {},
   "outputs": [],
   "source": [
    "annual_mask = np.array([x[-2:] == '13' for x in nuclear_data[:,1]])"
   ]
  },
  {
   "cell_type": "code",
   "execution_count": 65,
   "id": "4a1e4750",
   "metadata": {},
   "outputs": [],
   "source": [
    "annual_nuclear_data = nuclear_data[annual_mask]"
   ]
  },
  {
   "cell_type": "code",
   "execution_count": 66,
   "id": "c3cdc826",
   "metadata": {},
   "outputs": [
    {
     "data": {
      "text/plain": [
       "array([['NUETPUS', '194913', '0', '5',\n",
       "        'Electricity Net Generation From Nuclear Electric Power, All Sectors',\n",
       "        'Million Kilowatthours'],\n",
       "       ['NUETPUS', '195013', '0', '5',\n",
       "        'Electricity Net Generation From Nuclear Electric Power, All Sectors',\n",
       "        'Million Kilowatthours'],\n",
       "       ['NUETPUS', '195113', '0', '5',\n",
       "        'Electricity Net Generation From Nuclear Electric Power, All Sectors',\n",
       "        'Million Kilowatthours'],\n",
       "       ['NUETPUS', '195213', '0', '5',\n",
       "        'Electricity Net Generation From Nuclear Electric Power, All Sectors',\n",
       "        'Million Kilowatthours'],\n",
       "       ['NUETPUS', '195313', '0', '5',\n",
       "        'Electricity Net Generation From Nuclear Electric Power, All Sectors',\n",
       "        'Million Kilowatthours'],\n",
       "       ['NUETPUS', '195413', '0', '5',\n",
       "        'Electricity Net Generation From Nuclear Electric Power, All Sectors',\n",
       "        'Million Kilowatthours'],\n",
       "       ['NUETPUS', '195513', '0', '5',\n",
       "        'Electricity Net Generation From Nuclear Electric Power, All Sectors',\n",
       "        'Million Kilowatthours'],\n",
       "       ['NUETPUS', '195613', '0', '5',\n",
       "        'Electricity Net Generation From Nuclear Electric Power, All Sectors',\n",
       "        'Million Kilowatthours'],\n",
       "       ['NUETPUS', '195713', '9.67', '5',\n",
       "        'Electricity Net Generation From Nuclear Electric Power, All Sectors',\n",
       "        'Million Kilowatthours'],\n",
       "       ['NUETPUS', '195813', '164.691', '5',\n",
       "        'Electricity Net Generation From Nuclear Electric Power, All Sectors',\n",
       "        'Million Kilowatthours'],\n",
       "       ['NUETPUS', '195913', '188.101', '5',\n",
       "        'Electricity Net Generation From Nuclear Electric Power, All Sectors',\n",
       "        'Million Kilowatthours'],\n",
       "       ['NUETPUS', '196013', '518.182', '5',\n",
       "        'Electricity Net Generation From Nuclear Electric Power, All Sectors',\n",
       "        'Million Kilowatthours'],\n",
       "       ['NUETPUS', '196113', '1692.149', '5',\n",
       "        'Electricity Net Generation From Nuclear Electric Power, All Sectors',\n",
       "        'Million Kilowatthours'],\n",
       "       ['NUETPUS', '196213', '2269.685', '5',\n",
       "        'Electricity Net Generation From Nuclear Electric Power, All Sectors',\n",
       "        'Million Kilowatthours'],\n",
       "       ['NUETPUS', '196313', '3211.836', '5',\n",
       "        'Electricity Net Generation From Nuclear Electric Power, All Sectors',\n",
       "        'Million Kilowatthours'],\n",
       "       ['NUETPUS', '196413', '3342.743', '5',\n",
       "        'Electricity Net Generation From Nuclear Electric Power, All Sectors',\n",
       "        'Million Kilowatthours'],\n",
       "       ['NUETPUS', '196513', '3656.699', '5',\n",
       "        'Electricity Net Generation From Nuclear Electric Power, All Sectors',\n",
       "        'Million Kilowatthours'],\n",
       "       ['NUETPUS', '196613', '5519.909', '5',\n",
       "        'Electricity Net Generation From Nuclear Electric Power, All Sectors',\n",
       "        'Million Kilowatthours'],\n",
       "       ['NUETPUS', '196713', '7655.214', '5',\n",
       "        'Electricity Net Generation From Nuclear Electric Power, All Sectors',\n",
       "        'Million Kilowatthours'],\n",
       "       ['NUETPUS', '196813', '12528.419', '5',\n",
       "        'Electricity Net Generation From Nuclear Electric Power, All Sectors',\n",
       "        'Million Kilowatthours'],\n",
       "       ['NUETPUS', '196913', '13927.839', '5',\n",
       "        'Electricity Net Generation From Nuclear Electric Power, All Sectors',\n",
       "        'Million Kilowatthours'],\n",
       "       ['NUETPUS', '197013', '21804.448', '5',\n",
       "        'Electricity Net Generation From Nuclear Electric Power, All Sectors',\n",
       "        'Million Kilowatthours'],\n",
       "       ['NUETPUS', '197113', '38104.545', '5',\n",
       "        'Electricity Net Generation From Nuclear Electric Power, All Sectors',\n",
       "        'Million Kilowatthours'],\n",
       "       ['NUETPUS', '197213', '54091.135', '5',\n",
       "        'Electricity Net Generation From Nuclear Electric Power, All Sectors',\n",
       "        'Million Kilowatthours'],\n",
       "       ['NUETPUS', '197313', '83479.463', '5',\n",
       "        'Electricity Net Generation From Nuclear Electric Power, All Sectors',\n",
       "        'Million Kilowatthours'],\n",
       "       ['NUETPUS', '197413', '113975.74', '5',\n",
       "        'Electricity Net Generation From Nuclear Electric Power, All Sectors',\n",
       "        'Million Kilowatthours'],\n",
       "       ['NUETPUS', '197513', '172505.075', '5',\n",
       "        'Electricity Net Generation From Nuclear Electric Power, All Sectors',\n",
       "        'Million Kilowatthours'],\n",
       "       ['NUETPUS', '197613', '191103.531', '5',\n",
       "        'Electricity Net Generation From Nuclear Electric Power, All Sectors',\n",
       "        'Million Kilowatthours'],\n",
       "       ['NUETPUS', '197713', '250883.283', '5',\n",
       "        'Electricity Net Generation From Nuclear Electric Power, All Sectors',\n",
       "        'Million Kilowatthours'],\n",
       "       ['NUETPUS', '197813', '276403.07', '5',\n",
       "        'Electricity Net Generation From Nuclear Electric Power, All Sectors',\n",
       "        'Million Kilowatthours'],\n",
       "       ['NUETPUS', '197913', '255154.623', '5',\n",
       "        'Electricity Net Generation From Nuclear Electric Power, All Sectors',\n",
       "        'Million Kilowatthours'],\n",
       "       ['NUETPUS', '198013', '251115.575', '5',\n",
       "        'Electricity Net Generation From Nuclear Electric Power, All Sectors',\n",
       "        'Million Kilowatthours'],\n",
       "       ['NUETPUS', '198113', '272673.503', '5',\n",
       "        'Electricity Net Generation From Nuclear Electric Power, All Sectors',\n",
       "        'Million Kilowatthours'],\n",
       "       ['NUETPUS', '198213', '282773.248', '5',\n",
       "        'Electricity Net Generation From Nuclear Electric Power, All Sectors',\n",
       "        'Million Kilowatthours'],\n",
       "       ['NUETPUS', '198313', '293677.119', '5',\n",
       "        'Electricity Net Generation From Nuclear Electric Power, All Sectors',\n",
       "        'Million Kilowatthours'],\n",
       "       ['NUETPUS', '198413', '327633.549', '5',\n",
       "        'Electricity Net Generation From Nuclear Electric Power, All Sectors',\n",
       "        'Million Kilowatthours'],\n",
       "       ['NUETPUS', '198513', '383690.727', '5',\n",
       "        'Electricity Net Generation From Nuclear Electric Power, All Sectors',\n",
       "        'Million Kilowatthours'],\n",
       "       ['NUETPUS', '198613', '414038.063', '5',\n",
       "        'Electricity Net Generation From Nuclear Electric Power, All Sectors',\n",
       "        'Million Kilowatthours'],\n",
       "       ['NUETPUS', '198713', '455270.382', '5',\n",
       "        'Electricity Net Generation From Nuclear Electric Power, All Sectors',\n",
       "        'Million Kilowatthours'],\n",
       "       ['NUETPUS', '198813', '526973.047', '5',\n",
       "        'Electricity Net Generation From Nuclear Electric Power, All Sectors',\n",
       "        'Million Kilowatthours'],\n",
       "       ['NUETPUS', '198913', '529354.717', '5',\n",
       "        'Electricity Net Generation From Nuclear Electric Power, All Sectors',\n",
       "        'Million Kilowatthours'],\n",
       "       ['NUETPUS', '199013', '576861.678', '5',\n",
       "        'Electricity Net Generation From Nuclear Electric Power, All Sectors',\n",
       "        'Million Kilowatthours'],\n",
       "       ['NUETPUS', '199113', '612565.087', '5',\n",
       "        'Electricity Net Generation From Nuclear Electric Power, All Sectors',\n",
       "        'Million Kilowatthours'],\n",
       "       ['NUETPUS', '199213', '618776.263', '5',\n",
       "        'Electricity Net Generation From Nuclear Electric Power, All Sectors',\n",
       "        'Million Kilowatthours'],\n",
       "       ['NUETPUS', '199313', '610291.214', '5',\n",
       "        'Electricity Net Generation From Nuclear Electric Power, All Sectors',\n",
       "        'Million Kilowatthours'],\n",
       "       ['NUETPUS', '199413', '640439.832', '5',\n",
       "        'Electricity Net Generation From Nuclear Electric Power, All Sectors',\n",
       "        'Million Kilowatthours'],\n",
       "       ['NUETPUS', '199513', '673402.123', '5',\n",
       "        'Electricity Net Generation From Nuclear Electric Power, All Sectors',\n",
       "        'Million Kilowatthours'],\n",
       "       ['NUETPUS', '199613', '674728.546', '5',\n",
       "        'Electricity Net Generation From Nuclear Electric Power, All Sectors',\n",
       "        'Million Kilowatthours'],\n",
       "       ['NUETPUS', '199713', '628644.171', '5',\n",
       "        'Electricity Net Generation From Nuclear Electric Power, All Sectors',\n",
       "        'Million Kilowatthours'],\n",
       "       ['NUETPUS', '199813', '673702.104', '5',\n",
       "        'Electricity Net Generation From Nuclear Electric Power, All Sectors',\n",
       "        'Million Kilowatthours'],\n",
       "       ['NUETPUS', '199913', '728254.124', '5',\n",
       "        'Electricity Net Generation From Nuclear Electric Power, All Sectors',\n",
       "        'Million Kilowatthours'],\n",
       "       ['NUETPUS', '200013', '753892.94', '5',\n",
       "        'Electricity Net Generation From Nuclear Electric Power, All Sectors',\n",
       "        'Million Kilowatthours'],\n",
       "       ['NUETPUS', '200113', '768826.308', '5',\n",
       "        'Electricity Net Generation From Nuclear Electric Power, All Sectors',\n",
       "        'Million Kilowatthours'],\n",
       "       ['NUETPUS', '200213', '780064.087', '5',\n",
       "        'Electricity Net Generation From Nuclear Electric Power, All Sectors',\n",
       "        'Million Kilowatthours'],\n",
       "       ['NUETPUS', '200313', '763732.695', '5',\n",
       "        'Electricity Net Generation From Nuclear Electric Power, All Sectors',\n",
       "        'Million Kilowatthours'],\n",
       "       ['NUETPUS', '200413', '788528.387', '5',\n",
       "        'Electricity Net Generation From Nuclear Electric Power, All Sectors',\n",
       "        'Million Kilowatthours'],\n",
       "       ['NUETPUS', '200513', '781986.365', '5',\n",
       "        'Electricity Net Generation From Nuclear Electric Power, All Sectors',\n",
       "        'Million Kilowatthours'],\n",
       "       ['NUETPUS', '200613', '787218.636', '5',\n",
       "        'Electricity Net Generation From Nuclear Electric Power, All Sectors',\n",
       "        'Million Kilowatthours'],\n",
       "       ['NUETPUS', '200713', '806424.753', '5',\n",
       "        'Electricity Net Generation From Nuclear Electric Power, All Sectors',\n",
       "        'Million Kilowatthours'],\n",
       "       ['NUETPUS', '200813', '806208.435', '5',\n",
       "        'Electricity Net Generation From Nuclear Electric Power, All Sectors',\n",
       "        'Million Kilowatthours'],\n",
       "       ['NUETPUS', '200913', '798854.585', '5',\n",
       "        'Electricity Net Generation From Nuclear Electric Power, All Sectors',\n",
       "        'Million Kilowatthours'],\n",
       "       ['NUETPUS', '201013', '806968.301', '5',\n",
       "        'Electricity Net Generation From Nuclear Electric Power, All Sectors',\n",
       "        'Million Kilowatthours'],\n",
       "       ['NUETPUS', '201113', '790204.367', '5',\n",
       "        'Electricity Net Generation From Nuclear Electric Power, All Sectors',\n",
       "        'Million Kilowatthours'],\n",
       "       ['NUETPUS', '201213', '769331.249', '5',\n",
       "        'Electricity Net Generation From Nuclear Electric Power, All Sectors',\n",
       "        'Million Kilowatthours'],\n",
       "       ['NUETPUS', '201313', '789016.473', '5',\n",
       "        'Electricity Net Generation From Nuclear Electric Power, All Sectors',\n",
       "        'Million Kilowatthours'],\n",
       "       ['NUETPUS', '201413', '797165.982', '5',\n",
       "        'Electricity Net Generation From Nuclear Electric Power, All Sectors',\n",
       "        'Million Kilowatthours'],\n",
       "       ['NUETPUS', '201513', '797177.877', '5',\n",
       "        'Electricity Net Generation From Nuclear Electric Power, All Sectors',\n",
       "        'Million Kilowatthours'],\n",
       "       ['NUETPUS', '201613', '805693.948', '5',\n",
       "        'Electricity Net Generation From Nuclear Electric Power, All Sectors',\n",
       "        'Million Kilowatthours'],\n",
       "       ['NUETPUS', '201713', '804949.635', '5',\n",
       "        'Electricity Net Generation From Nuclear Electric Power, All Sectors',\n",
       "        'Million Kilowatthours'],\n",
       "       ['NUETPUS', '201813', '807084.477', '5',\n",
       "        'Electricity Net Generation From Nuclear Electric Power, All Sectors',\n",
       "        'Million Kilowatthours'],\n",
       "       ['NUETPUS', '201913', '809409.262', '5',\n",
       "        'Electricity Net Generation From Nuclear Electric Power, All Sectors',\n",
       "        'Million Kilowatthours'],\n",
       "       ['NUETPUS', '202013', '789878.863', '5',\n",
       "        'Electricity Net Generation From Nuclear Electric Power, All Sectors',\n",
       "        'Million Kilowatthours'],\n",
       "       ['NUETPUS', '202113', '778187.988', '5',\n",
       "        'Electricity Net Generation From Nuclear Electric Power, All Sectors',\n",
       "        'Million Kilowatthours']], dtype='<U80')"
      ]
     },
     "execution_count": 66,
     "metadata": {},
     "output_type": "execute_result"
    }
   ],
   "source": [
    "annual_nuclear_data"
   ]
  },
  {
   "cell_type": "markdown",
   "id": "e6829473",
   "metadata": {},
   "source": [
    "## Analysis"
   ]
  },
  {
   "cell_type": "code",
   "execution_count": 67,
   "id": "ee6bf535",
   "metadata": {
    "scrolled": true
   },
   "outputs": [
    {
     "data": {
      "text/plain": [
       "array([ True,  True,  True,  True,  True,  True,  True,  True,  True,\n",
       "        True,  True,  True,  True,  True,  True,  True,  True,  True,\n",
       "        True,  True,  True,  True,  True,  True, False, False, False,\n",
       "       False, False, False, False, False, False, False, False, False,\n",
       "        True, False, False, False, False, False, False, False, False,\n",
       "       False, False, False, False,  True, False, False, False, False,\n",
       "       False, False, False, False, False, False, False, False,  True,\n",
       "       False, False, False, False, False, False, False, False, False,\n",
       "       False, False, False,  True, False, False, False, False, False,\n",
       "       False, False, False, False, False, False, False,  True, False,\n",
       "       False, False, False, False, False, False, False, False, False,\n",
       "       False, False,  True, False, False, False, False, False, False,\n",
       "       False, False, False, False, False, False,  True, False, False,\n",
       "       False, False, False, False, False, False, False, False, False,\n",
       "       False,  True, False, False, False, False, False, False, False,\n",
       "       False, False, False, False, False,  True, False, False, False,\n",
       "       False, False, False, False, False, False, False, False, False,\n",
       "        True, False, False, False, False, False, False, False, False,\n",
       "       False, False, False, False,  True, False, False, False, False,\n",
       "       False, False, False, False, False, False, False, False,  True,\n",
       "       False, False, False, False, False, False, False, False, False,\n",
       "       False, False, False,  True, False, False, False, False, False,\n",
       "       False, False, False, False, False, False, False,  True, False,\n",
       "       False, False, False, False, False, False, False, False, False,\n",
       "       False, False,  True, False, False, False, False, False, False,\n",
       "       False, False, False, False, False, False,  True, False, False,\n",
       "       False, False, False, False, False, False, False, False, False,\n",
       "       False,  True, False, False, False, False, False, False, False,\n",
       "       False, False, False, False, False,  True, False, False, False,\n",
       "       False, False, False, False, False, False, False, False, False,\n",
       "        True, False, False, False, False, False, False, False, False,\n",
       "       False, False, False, False,  True, False, False, False, False,\n",
       "       False, False, False, False, False, False, False, False,  True,\n",
       "       False, False, False, False, False, False, False, False, False,\n",
       "       False, False, False,  True, False, False, False, False, False,\n",
       "       False, False, False, False, False, False, False,  True, False,\n",
       "       False, False, False, False, False, False, False, False, False,\n",
       "       False, False,  True, False, False, False, False, False, False,\n",
       "       False, False, False, False, False, False,  True, False, False,\n",
       "       False, False, False, False, False, False, False, False, False,\n",
       "       False,  True, False, False, False, False, False, False, False,\n",
       "       False, False, False, False, False,  True, False, False, False,\n",
       "       False, False, False, False, False, False, False, False, False,\n",
       "        True, False, False, False, False, False, False, False, False,\n",
       "       False, False, False, False,  True, False, False, False, False,\n",
       "       False, False, False, False, False, False, False, False,  True,\n",
       "       False, False, False, False, False, False, False, False, False,\n",
       "       False, False, False,  True, False, False, False, False, False,\n",
       "       False, False, False, False, False, False, False,  True, False,\n",
       "       False, False, False, False, False, False, False, False, False,\n",
       "       False, False,  True, False, False, False, False, False, False,\n",
       "       False, False, False, False, False, False,  True, False, False,\n",
       "       False, False, False, False, False, False, False, False, False,\n",
       "       False,  True, False, False, False, False, False, False, False,\n",
       "       False, False, False, False, False,  True, False, False, False,\n",
       "       False, False, False, False, False, False, False, False, False,\n",
       "        True, False, False, False, False, False, False, False, False,\n",
       "       False, False, False, False,  True, False, False, False, False,\n",
       "       False, False, False, False, False, False, False, False,  True,\n",
       "       False, False, False, False, False, False, False, False, False,\n",
       "       False, False, False,  True, False, False, False, False, False,\n",
       "       False, False, False, False, False, False, False,  True, False,\n",
       "       False, False, False, False, False, False, False, False, False,\n",
       "       False, False,  True, False, False, False, False, False, False,\n",
       "       False, False, False, False, False, False,  True, False, False,\n",
       "       False, False, False, False, False, False, False, False, False,\n",
       "       False,  True, False, False, False, False, False, False, False,\n",
       "       False, False, False, False, False,  True, False, False, False,\n",
       "       False, False, False, False, False, False, False, False, False,\n",
       "        True, False, False, False, False, False, False, False, False,\n",
       "       False, False, False, False,  True, False, False, False, False,\n",
       "       False, False, False, False, False, False, False, False,  True,\n",
       "       False, False, False, False, False, False, False, False, False,\n",
       "       False, False, False,  True, False, False, False, False, False,\n",
       "       False, False, False, False, False, False])"
      ]
     },
     "execution_count": 67,
     "metadata": {},
     "output_type": "execute_result"
    }
   ],
   "source": [
    "np.array([x[-2:] == '13' for x in nuclear_data[:,1]])"
   ]
  },
  {
   "cell_type": "markdown",
   "id": "3c3d2aff",
   "metadata": {},
   "source": [
    "## Total Energy Generated"
   ]
  },
  {
   "cell_type": "code",
   "execution_count": 68,
   "id": "a99a91d9",
   "metadata": {},
   "outputs": [],
   "source": [
    "all_energy = nuclear_data[:,2].astype(float)"
   ]
  },
  {
   "cell_type": "code",
   "execution_count": 69,
   "id": "e3d362c1",
   "metadata": {},
   "outputs": [
    {
     "name": "stdout",
     "output_type": "stream",
     "text": [
      "The total nuclear_data energy generated in USA between 1986 - 2021: 58669479.237 killowatt per hours\n"
     ]
    }
   ],
   "source": [
    "print(\"The total nuclear_data energy generated in USA between 1986 - 2021: {} killowatt per hours\".format(all_energy.sum()))"
   ]
  },
  {
   "cell_type": "markdown",
   "id": "03470c44",
   "metadata": {},
   "source": [
    "## The Mean Of Nuclear Energy Generated"
   ]
  },
  {
   "cell_type": "code",
   "execution_count": 70,
   "id": "5ea92ee4",
   "metadata": {},
   "outputs": [
    {
     "data": {
      "text/plain": [
       "87305.77267410715"
      ]
     },
     "execution_count": 70,
     "metadata": {},
     "output_type": "execute_result"
    }
   ],
   "source": [
    "all_energy.mean()"
   ]
  },
  {
   "cell_type": "markdown",
   "id": "eb53abcc",
   "metadata": {},
   "source": [
    "## The Standard Deviation"
   ]
  },
  {
   "cell_type": "code",
   "execution_count": 71,
   "id": "93568b56",
   "metadata": {},
   "outputs": [
    {
     "data": {
      "text/plain": [
       "155564.6746090216"
      ]
     },
     "execution_count": 71,
     "metadata": {},
     "output_type": "execute_result"
    }
   ],
   "source": [
    "all_energy.std()"
   ]
  },
  {
   "cell_type": "code",
   "execution_count": 72,
   "id": "992e86e0",
   "metadata": {},
   "outputs": [
    {
     "data": {
      "text/plain": [
       "809409.262"
      ]
     },
     "execution_count": 72,
     "metadata": {},
     "output_type": "execute_result"
    }
   ],
   "source": [
    "all_energy.max()"
   ]
  },
  {
   "cell_type": "code",
   "execution_count": 73,
   "id": "705a7bd9",
   "metadata": {},
   "outputs": [
    {
     "data": {
      "text/plain": [
       "0.0"
      ]
     },
     "execution_count": 73,
     "metadata": {},
     "output_type": "execute_result"
    }
   ],
   "source": [
    "all_energy.min()"
   ]
  },
  {
   "cell_type": "code",
   "execution_count": 74,
   "id": "db916507",
   "metadata": {},
   "outputs": [],
   "source": [
    "y =nuclear_data[:,1] # year\n",
    "x = nuclear_data[:,2] # energy"
   ]
  },
  {
   "cell_type": "code",
   "execution_count": 75,
   "id": "f366e21b",
   "metadata": {},
   "outputs": [
    {
     "data": {
      "image/png": "[encoded data removed]",
      "text/plain": [
       "<Figure size 432x288 with 1 Axes>"
      ]
     },
     "metadata": {
      "needs_background": "light"
     },
     "output_type": "display_data"
    }
   ],
   "source": [
    "plt.plot(y,x)\n",
    "plt.ylabel(\"Year\")\n",
    "plt.xlabel(\"Energy\")\n",
    "plt.show()"
   ]
  },
  {
   "cell_type": "code",
   "execution_count": null,
   "id": "7d0ff156",
   "metadata": {},
   "outputs": [],
   "source": []
  }
 ],
 "metadata": {
  "kernelspec": {
   "display_name": "Python 3 (ipykernel)",
   "language": "python",
   "name": "python3"
  },
  "language_info": {
   "codemirror_mode": {
    "name": "ipython",
    "version": 3
   },
   "file_extension": ".py",
   "mimetype": "text/x-python",
   "name": "python",
   "nbconvert_exporter": "python",
   "pygments_lexer": "ipython3",
   "version": "3.9.12"
  }
 },
 "nbformat": 4,
 "nbformat_minor": 5
}
