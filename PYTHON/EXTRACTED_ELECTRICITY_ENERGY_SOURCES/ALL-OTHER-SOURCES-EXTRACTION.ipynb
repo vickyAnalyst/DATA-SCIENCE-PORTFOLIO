{
 "cells": [
  {
   "cell_type": "markdown",
   "id": "be2a6e8f",
   "metadata": {},
   "source": [
    "## import Library"
   ]
  },
  {
   "cell_type": "code",
   "execution_count": 1,
   "id": "8f1a3d6b",
   "metadata": {},
   "outputs": [],
   "source": [
    "import numpy as np\n",
    "import matplotlib.pyplot as plt \n",
    "import csv"
   ]
  },
  {
   "cell_type": "markdown",
   "id": "c661fa31",
   "metadata": {},
   "source": [
    "## IMPORT DATA SET"
   ]
  },
  {
   "cell_type": "code",
   "execution_count": 2,
   "id": "23be1090",
   "metadata": {},
   "outputs": [],
   "source": [
    "data = []\n",
    "\n",
    "# read the file \n",
    "with open(\"./raw_data.csv\", \"r\") as csvfile:\n",
    "    file_reader = csv.reader(csvfile)\n",
    "\n",
    "    for row in file_reader:\n",
    "        data.append(row)\n",
    "\n",
    "# change data into numpy array\n",
    "data = np.array(data)"
   ]
  },
  {
   "cell_type": "code",
   "execution_count": 3,
   "id": "ba9f9234",
   "metadata": {},
   "outputs": [],
   "source": [
    "data\n",
    "data.shape\n",
    "np.savetxt(\"raw_data.npy\",data, fmt=\"%s\", delimiter=\",\")"
   ]
  },
  {
   "cell_type": "code",
   "execution_count": 4,
   "id": "785fab14",
   "metadata": {},
   "outputs": [
    {
     "name": "stdout",
     "output_type": "stream",
     "text": [
      "Header:\n",
      " ['MSN' 'YYYYMM' 'Value' 'Column_Order' 'Description' 'Unit'] \n",
      "\n",
      " Values:\n",
      " [['CLETPUS' '194913' '135451.32' '1'\n",
      "  'Electricity Net Generation From Coal, All Sectors'\n",
      "  'Million Kilowatthours']\n",
      " ['CLETPUS' '195013' '154519.994' '1'\n",
      "  'Electricity Net Generation From Coal, All Sectors'\n",
      "  'Million Kilowatthours']\n",
      " ['CLETPUS' '195113' '185203.657' '1'\n",
      "  'Electricity Net Generation From Coal, All Sectors'\n",
      "  'Million Kilowatthours']\n",
      " ...\n",
      " ['ELETPUS' '202209' '350919.559' '13'\n",
      "  'Electricity Net Generation Total (including from sources not shown), All Sectors'\n",
      "  'Million Kilowatthours']\n",
      " ['ELETPUS' '202210' '314048.288' '13'\n",
      "  'Electricity Net Generation Total (including from sources not shown), All Sectors'\n",
      "  'Million Kilowatthours']\n",
      " ['ELETPUS' '202211' '323198.745' '13'\n",
      "  'Electricity Net Generation Total (including from sources not shown), All Sectors'\n",
      "  'Million Kilowatthours']]\n"
     ]
    }
   ],
   "source": [
    "header = data[0, :]\n",
    "values = data[1:, :]\n",
    "print(\"Header:\\n\", header, \"\\n\\n Values:\\n\", values)"
   ]
  },
  {
   "cell_type": "markdown",
   "id": "0744da39",
   "metadata": {},
   "source": [
    "## Extract The Other_Sources Energy Data"
   ]
  },
  {
   "cell_type": "code",
   "execution_count": 8,
   "id": "11c857ed",
   "metadata": {
    "scrolled": true
   },
   "outputs": [
    {
     "name": "stdout",
     "output_type": "stream",
     "text": [
      "[False False False ...  True  True  True]\n",
      "[['ELETPUS' '194913' '296124.289' '13'\n",
      "  'Electricity Net Generation Total (including from sources not shown), All Sectors'\n",
      "  'Million Kilowatthours']\n",
      " ['ELETPUS' '195013' '334087.601' '13'\n",
      "  'Electricity Net Generation Total (including from sources not shown), All Sectors'\n",
      "  'Million Kilowatthours']\n",
      " ['ELETPUS' '195113' '375298.355' '13'\n",
      "  'Electricity Net Generation Total (including from sources not shown), All Sectors'\n",
      "  'Million Kilowatthours']\n",
      " ...\n",
      " ['ELETPUS' '202209' '350919.559' '13'\n",
      "  'Electricity Net Generation Total (including from sources not shown), All Sectors'\n",
      "  'Million Kilowatthours']\n",
      " ['ELETPUS' '202210' '314048.288' '13'\n",
      "  'Electricity Net Generation Total (including from sources not shown), All Sectors'\n",
      "  'Million Kilowatthours']\n",
      " ['ELETPUS' '202211' '323198.745' '13'\n",
      "  'Electricity Net Generation Total (including from sources not shown), All Sectors'\n",
      "  'Million Kilowatthours']]\n"
     ]
    },
    {
     "data": {
      "text/plain": [
       "(672, 6)"
      ]
     },
     "execution_count": 8,
     "metadata": {},
     "output_type": "execute_result"
    }
   ],
   "source": [
    "other_sources_cond = values[:,4] == \"Electricity Net Generation Total (including from sources not shown), All Sectors\"\n",
    "print(other_sources_cond)\n",
    "other_sources_data = values[other_sources_cond]\n",
    "print(other_sources_data)\n",
    "other_sources_data.shape"
   ]
  },
  {
   "cell_type": "code",
   "execution_count": 9,
   "id": "b62351e7",
   "metadata": {
    "scrolled": false
   },
   "outputs": [
    {
     "data": {
      "text/plain": [
       "array([['ELETPUS', '194913', '296124.289', '13',\n",
       "        'Electricity Net Generation Total (including from sources not shown), All Sectors',\n",
       "        'Million Kilowatthours'],\n",
       "       ['ELETPUS', '195013', '334087.601', '13',\n",
       "        'Electricity Net Generation Total (including from sources not shown), All Sectors',\n",
       "        'Million Kilowatthours'],\n",
       "       ['ELETPUS', '195113', '375298.355', '13',\n",
       "        'Electricity Net Generation Total (including from sources not shown), All Sectors',\n",
       "        'Million Kilowatthours'],\n",
       "       ...,\n",
       "       ['ELETPUS', '202209', '350919.559', '13',\n",
       "        'Electricity Net Generation Total (including from sources not shown), All Sectors',\n",
       "        'Million Kilowatthours'],\n",
       "       ['ELETPUS', '202210', '314048.288', '13',\n",
       "        'Electricity Net Generation Total (including from sources not shown), All Sectors',\n",
       "        'Million Kilowatthours'],\n",
       "       ['ELETPUS', '202211', '323198.745', '13',\n",
       "        'Electricity Net Generation Total (including from sources not shown), All Sectors',\n",
       "        'Million Kilowatthours']], dtype='<U80')"
      ]
     },
     "execution_count": 9,
     "metadata": {},
     "output_type": "execute_result"
    }
   ],
   "source": [
    "other_sources_data"
   ]
  },
  {
   "cell_type": "markdown",
   "id": "9ba2d34a",
   "metadata": {},
   "source": [
    "## Saving File"
   ]
  },
  {
   "cell_type": "code",
   "execution_count": null,
   "id": "f377f0d8",
   "metadata": {},
   "outputs": [],
   "source": [
    "np.savetxt(\"other_sources_energy.npy\", other_sources_data, fmt=\"%s\", delimiter=\",\")\n",
    "np.savetxt(\"other_sources_energy.csv\", other_sources_data, fmt=\"%s\", delimiter=\",\")"
   ]
  },
  {
   "cell_type": "markdown",
   "id": "eca5ad55",
   "metadata": {},
   "source": [
    "## EDA-Exploratory Data Analysis"
   ]
  },
  {
   "cell_type": "code",
   "execution_count": 11,
   "id": "03b32800",
   "metadata": {},
   "outputs": [
    {
     "name": "stdout",
     "output_type": "stream",
     "text": [
      "Row:  672\n",
      "colum:  6\n"
     ]
    }
   ],
   "source": [
    "# Return the shape of my data\n",
    "print(\"Row: \",other_sources_data.shape[0])\n",
    "print(\"colum: \",other_sources_data.shape[1])"
   ]
  },
  {
   "cell_type": "markdown",
   "id": "ff3074d2",
   "metadata": {},
   "source": [
    "## Data Cleaning"
   ]
  },
  {
   "cell_type": "markdown",
   "id": "491de091",
   "metadata": {},
   "source": [
    "in the value column, some data point include \"Not Availabe\" which means energy were not recorded under  other_sources for that year."
   ]
  },
  {
   "cell_type": "code",
   "execution_count": 12,
   "id": "39994415",
   "metadata": {},
   "outputs": [
    {
     "data": {
      "text/plain": [
       "array(['194913', '195013', '195113', '195213', '195313', '195413',\n",
       "       '195513', '195613', '195713', '195813', '195913', '196013',\n",
       "       '196113', '196213', '196313', '196413', '196513', '196613',\n",
       "       '196713', '196813', '196913', '197013', '197113', '197213',\n",
       "       '197301', '197302', '197303', '197304', '197305', '197306',\n",
       "       '197307', '197308', '197309', '197310', '197311', '197312',\n",
       "       '197313', '197401', '197402', '197403', '197404', '197405',\n",
       "       '197406', '197407', '197408', '197409', '197410', '197411',\n",
       "       '197412', '197413', '197501', '197502', '197503', '197504',\n",
       "       '197505', '197506', '197507', '197508', '197509', '197510',\n",
       "       '197511', '197512', '197513', '197601', '197602', '197603',\n",
       "       '197604', '197605', '197606', '197607', '197608', '197609',\n",
       "       '197610', '197611', '197612', '197613', '197701', '197702',\n",
       "       '197703', '197704', '197705', '197706', '197707', '197708',\n",
       "       '197709', '197710', '197711', '197712', '197713', '197801',\n",
       "       '197802', '197803', '197804', '197805', '197806', '197807',\n",
       "       '197808', '197809', '197810', '197811', '197812', '197813',\n",
       "       '197901', '197902', '197903', '197904', '197905', '197906',\n",
       "       '197907', '197908', '197909', '197910', '197911', '197912',\n",
       "       '197913', '198001', '198002', '198003', '198004', '198005',\n",
       "       '198006', '198007', '198008', '198009', '198010', '198011',\n",
       "       '198012', '198013', '198101', '198102', '198103', '198104',\n",
       "       '198105', '198106', '198107', '198108', '198109', '198110',\n",
       "       '198111', '198112', '198113', '198201', '198202', '198203',\n",
       "       '198204', '198205', '198206', '198207', '198208', '198209',\n",
       "       '198210', '198211', '198212', '198213', '198301', '198302',\n",
       "       '198303', '198304', '198305', '198306', '198307', '198308',\n",
       "       '198309', '198310', '198311', '198312', '198313', '198401',\n",
       "       '198402', '198403', '198404', '198405', '198406', '198407',\n",
       "       '198408', '198409', '198410', '198411', '198412', '198413',\n",
       "       '198501', '198502', '198503', '198504', '198505', '198506',\n",
       "       '198507', '198508', '198509', '198510', '198511', '198512',\n",
       "       '198513', '198601', '198602', '198603', '198604', '198605',\n",
       "       '198606', '198607', '198608', '198609', '198610', '198611',\n",
       "       '198612', '198613', '198701', '198702', '198703', '198704',\n",
       "       '198705', '198706', '198707', '198708', '198709', '198710',\n",
       "       '198711', '198712', '198713', '198801', '198802', '198803',\n",
       "       '198804', '198805', '198806', '198807', '198808', '198809',\n",
       "       '198810', '198811', '198812', '198813', '198901', '198902',\n",
       "       '198903', '198904', '198905', '198906', '198907', '198908',\n",
       "       '198909', '198910', '198911', '198912', '198913', '199001',\n",
       "       '199002', '199003', '199004', '199005', '199006', '199007',\n",
       "       '199008', '199009', '199010', '199011', '199012', '199013',\n",
       "       '199101', '199102', '199103', '199104', '199105', '199106',\n",
       "       '199107', '199108', '199109', '199110', '199111', '199112',\n",
       "       '199113', '199201', '199202', '199203', '199204', '199205',\n",
       "       '199206', '199207', '199208', '199209', '199210', '199211',\n",
       "       '199212', '199213', '199301', '199302', '199303', '199304',\n",
       "       '199305', '199306', '199307', '199308', '199309', '199310',\n",
       "       '199311', '199312', '199313', '199401', '199402', '199403',\n",
       "       '199404', '199405', '199406', '199407', '199408', '199409',\n",
       "       '199410', '199411', '199412', '199413', '199501', '199502',\n",
       "       '199503', '199504', '199505', '199506', '199507', '199508',\n",
       "       '199509', '199510', '199511', '199512', '199513', '199601',\n",
       "       '199602', '199603', '199604', '199605', '199606', '199607',\n",
       "       '199608', '199609', '199610', '199611', '199612', '199613',\n",
       "       '199701', '199702', '199703', '199704', '199705', '199706',\n",
       "       '199707', '199708', '199709', '199710', '199711', '199712',\n",
       "       '199713', '199801', '199802', '199803', '199804', '199805',\n",
       "       '199806', '199807', '199808', '199809', '199810', '199811',\n",
       "       '199812', '199813', '199901', '199902', '199903', '199904',\n",
       "       '199905', '199906', '199907', '199908', '199909', '199910',\n",
       "       '199911', '199912', '199913', '200001', '200002', '200003',\n",
       "       '200004', '200005', '200006', '200007', '200008', '200009',\n",
       "       '200010', '200011', '200012', '200013', '200101', '200102',\n",
       "       '200103', '200104', '200105', '200106', '200107', '200108',\n",
       "       '200109', '200110', '200111', '200112', '200113', '200201',\n",
       "       '200202', '200203', '200204', '200205', '200206', '200207',\n",
       "       '200208', '200209', '200210', '200211', '200212', '200213',\n",
       "       '200301', '200302', '200303', '200304', '200305', '200306',\n",
       "       '200307', '200308', '200309', '200310', '200311', '200312',\n",
       "       '200313', '200401', '200402', '200403', '200404', '200405',\n",
       "       '200406', '200407', '200408', '200409', '200410', '200411',\n",
       "       '200412', '200413', '200501', '200502', '200503', '200504',\n",
       "       '200505', '200506', '200507', '200508', '200509', '200510',\n",
       "       '200511', '200512', '200513', '200601', '200602', '200603',\n",
       "       '200604', '200605', '200606', '200607', '200608', '200609',\n",
       "       '200610', '200611', '200612', '200613', '200701', '200702',\n",
       "       '200703', '200704', '200705', '200706', '200707', '200708',\n",
       "       '200709', '200710', '200711', '200712', '200713', '200801',\n",
       "       '200802', '200803', '200804', '200805', '200806', '200807',\n",
       "       '200808', '200809', '200810', '200811', '200812', '200813',\n",
       "       '200901', '200902', '200903', '200904', '200905', '200906',\n",
       "       '200907', '200908', '200909', '200910', '200911', '200912',\n",
       "       '200913', '201001', '201002', '201003', '201004', '201005',\n",
       "       '201006', '201007', '201008', '201009', '201010', '201011',\n",
       "       '201012', '201013', '201101', '201102', '201103', '201104',\n",
       "       '201105', '201106', '201107', '201108', '201109', '201110',\n",
       "       '201111', '201112', '201113', '201201', '201202', '201203',\n",
       "       '201204', '201205', '201206', '201207', '201208', '201209',\n",
       "       '201210', '201211', '201212', '201213', '201301', '201302',\n",
       "       '201303', '201304', '201305', '201306', '201307', '201308',\n",
       "       '201309', '201310', '201311', '201312', '201313', '201401',\n",
       "       '201402', '201403', '201404', '201405', '201406', '201407',\n",
       "       '201408', '201409', '201410', '201411', '201412', '201413',\n",
       "       '201501', '201502', '201503', '201504', '201505', '201506',\n",
       "       '201507', '201508', '201509', '201510', '201511', '201512',\n",
       "       '201513', '201601', '201602', '201603', '201604', '201605',\n",
       "       '201606', '201607', '201608', '201609', '201610', '201611',\n",
       "       '201612', '201613', '201701', '201702', '201703', '201704',\n",
       "       '201705', '201706', '201707', '201708', '201709', '201710',\n",
       "       '201711', '201712', '201713', '201801', '201802', '201803',\n",
       "       '201804', '201805', '201806', '201807', '201808', '201809',\n",
       "       '201810', '201811', '201812', '201813', '201901', '201902',\n",
       "       '201903', '201904', '201905', '201906', '201907', '201908',\n",
       "       '201909', '201910', '201911', '201912', '201913', '202001',\n",
       "       '202002', '202003', '202004', '202005', '202006', '202007',\n",
       "       '202008', '202009', '202010', '202011', '202012', '202013',\n",
       "       '202101', '202102', '202103', '202104', '202105', '202106',\n",
       "       '202107', '202108', '202109', '202110', '202111', '202112',\n",
       "       '202113', '202201', '202202', '202203', '202204', '202205',\n",
       "       '202206', '202207', '202208', '202209', '202210', '202211'],\n",
       "      dtype='<U80')"
      ]
     },
     "execution_count": 12,
     "metadata": {},
     "output_type": "execute_result"
    }
   ],
   "source": [
    "other_sources_data[:,1]"
   ]
  },
  {
   "cell_type": "code",
   "execution_count": 13,
   "id": "94b59632",
   "metadata": {},
   "outputs": [],
   "source": [
    "available_mask = other_sources_data[:,2] != \"Not Available\"\n",
    "\n",
    "other_sources_data = other_sources_data[available_mask]"
   ]
  },
  {
   "cell_type": "markdown",
   "id": "2f82e99b",
   "metadata": {},
   "source": [
    "## Save Clean Other_Sources Data"
   ]
  },
  {
   "cell_type": "code",
   "execution_count": 14,
   "id": "2f65e10d",
   "metadata": {},
   "outputs": [],
   "source": [
    "np.savetxt(\"wind.csv\", other_sources_data, fmt=\"%s\", delimiter=\",\")"
   ]
  },
  {
   "cell_type": "code",
   "execution_count": 15,
   "id": "632a3c7d",
   "metadata": {},
   "outputs": [],
   "source": [
    "annual_mask = np.array([x[-2:] == '13' for x in other_sources_data[:,1]])"
   ]
  },
  {
   "cell_type": "code",
   "execution_count": 16,
   "id": "4a1e4750",
   "metadata": {},
   "outputs": [],
   "source": [
    "annual_other_sources_data = other_sources_data[annual_mask]"
   ]
  },
  {
   "cell_type": "code",
   "execution_count": 17,
   "id": "c3cdc826",
   "metadata": {},
   "outputs": [
    {
     "data": {
      "text/plain": [
       "array([['ELETPUS', '194913', '296124.289', '13',\n",
       "        'Electricity Net Generation Total (including from sources not shown), All Sectors',\n",
       "        'Million Kilowatthours'],\n",
       "       ['ELETPUS', '195013', '334087.601', '13',\n",
       "        'Electricity Net Generation Total (including from sources not shown), All Sectors',\n",
       "        'Million Kilowatthours'],\n",
       "       ['ELETPUS', '195113', '375298.355', '13',\n",
       "        'Electricity Net Generation Total (including from sources not shown), All Sectors',\n",
       "        'Million Kilowatthours'],\n",
       "       ['ELETPUS', '195213', '403829.413', '13',\n",
       "        'Electricity Net Generation Total (including from sources not shown), All Sectors',\n",
       "        'Million Kilowatthours'],\n",
       "       ['ELETPUS', '195313', '447048.563', '13',\n",
       "        'Electricity Net Generation Total (including from sources not shown), All Sectors',\n",
       "        'Million Kilowatthours'],\n",
       "       ['ELETPUS', '195413', '476257.618', '13',\n",
       "        'Electricity Net Generation Total (including from sources not shown), All Sectors',\n",
       "        'Million Kilowatthours'],\n",
       "       ['ELETPUS', '195513', '550298.862', '13',\n",
       "        'Electricity Net Generation Total (including from sources not shown), All Sectors',\n",
       "        'Million Kilowatthours'],\n",
       "       ['ELETPUS', '195613', '603875.763', '13',\n",
       "        'Electricity Net Generation Total (including from sources not shown), All Sectors',\n",
       "        'Million Kilowatthours'],\n",
       "       ['ELETPUS', '195713', '634642.367', '13',\n",
       "        'Electricity Net Generation Total (including from sources not shown), All Sectors',\n",
       "        'Million Kilowatthours'],\n",
       "       ['ELETPUS', '195813', '648450.862', '13',\n",
       "        'Electricity Net Generation Total (including from sources not shown), All Sectors',\n",
       "        'Million Kilowatthours'],\n",
       "       ['ELETPUS', '195913', '713378.831', '13',\n",
       "        'Electricity Net Generation Total (including from sources not shown), All Sectors',\n",
       "        'Million Kilowatthours'],\n",
       "       ['ELETPUS', '196013', '759155.788', '13',\n",
       "        'Electricity Net Generation Total (including from sources not shown), All Sectors',\n",
       "        'Million Kilowatthours'],\n",
       "       ['ELETPUS', '196113', '797124.391', '13',\n",
       "        'Electricity Net Generation Total (including from sources not shown), All Sectors',\n",
       "        'Million Kilowatthours'],\n",
       "       ['ELETPUS', '196213', '857943.656', '13',\n",
       "        'Electricity Net Generation Total (including from sources not shown), All Sectors',\n",
       "        'Million Kilowatthours'],\n",
       "       ['ELETPUS', '196313', '920028.271', '13',\n",
       "        'Electricity Net Generation Total (including from sources not shown), All Sectors',\n",
       "        'Million Kilowatthours'],\n",
       "       ['ELETPUS', '196413', '987218.326', '13',\n",
       "        'Electricity Net Generation Total (including from sources not shown), All Sectors',\n",
       "        'Million Kilowatthours'],\n",
       "       ['ELETPUS', '196513', '1058385.671', '13',\n",
       "        'Electricity Net Generation Total (including from sources not shown), All Sectors',\n",
       "        'Million Kilowatthours'],\n",
       "       ['ELETPUS', '196613', '1147531.895', '13',\n",
       "        'Electricity Net Generation Total (including from sources not shown), All Sectors',\n",
       "        'Million Kilowatthours'],\n",
       "       ['ELETPUS', '196713', '1217795.688', '13',\n",
       "        'Electricity Net Generation Total (including from sources not shown), All Sectors',\n",
       "        'Million Kilowatthours'],\n",
       "       ['ELETPUS', '196813', '1332825.601', '13',\n",
       "        'Electricity Net Generation Total (including from sources not shown), All Sectors',\n",
       "        'Million Kilowatthours'],\n",
       "       ['ELETPUS', '196913', '1445458.056', '13',\n",
       "        'Electricity Net Generation Total (including from sources not shown), All Sectors',\n",
       "        'Million Kilowatthours'],\n",
       "       ['ELETPUS', '197013', '1535111.467', '13',\n",
       "        'Electricity Net Generation Total (including from sources not shown), All Sectors',\n",
       "        'Million Kilowatthours'],\n",
       "       ['ELETPUS', '197113', '1615853.616', '13',\n",
       "        'Electricity Net Generation Total (including from sources not shown), All Sectors',\n",
       "        'Million Kilowatthours'],\n",
       "       ['ELETPUS', '197213', '1752978.413', '13',\n",
       "        'Electricity Net Generation Total (including from sources not shown), All Sectors',\n",
       "        'Million Kilowatthours'],\n",
       "       ['ELETPUS', '197313', '1864056.632', '13',\n",
       "        'Electricity Net Generation Total (including from sources not shown), All Sectors',\n",
       "        'Million Kilowatthours'],\n",
       "       ['ELETPUS', '197413', '1870319.404', '13',\n",
       "        'Electricity Net Generation Total (including from sources not shown), All Sectors',\n",
       "        'Million Kilowatthours'],\n",
       "       ['ELETPUS', '197513', '1920754.569', '13',\n",
       "        'Electricity Net Generation Total (including from sources not shown), All Sectors',\n",
       "        'Million Kilowatthours'],\n",
       "       ['ELETPUS', '197613', '2040913.681', '13',\n",
       "        'Electricity Net Generation Total (including from sources not shown), All Sectors',\n",
       "        'Million Kilowatthours'],\n",
       "       ['ELETPUS', '197713', '2127447.488', '13',\n",
       "        'Electricity Net Generation Total (including from sources not shown), All Sectors',\n",
       "        'Million Kilowatthours'],\n",
       "       ['ELETPUS', '197813', '2209376.911', '13',\n",
       "        'Electricity Net Generation Total (including from sources not shown), All Sectors',\n",
       "        'Million Kilowatthours'],\n",
       "       ['ELETPUS', '197913', '2250665.025', '13',\n",
       "        'Electricity Net Generation Total (including from sources not shown), All Sectors',\n",
       "        'Million Kilowatthours'],\n",
       "       ['ELETPUS', '198013', '2289600.364', '13',\n",
       "        'Electricity Net Generation Total (including from sources not shown), All Sectors',\n",
       "        'Million Kilowatthours'],\n",
       "       ['ELETPUS', '198113', '2297973.338', '13',\n",
       "        'Electricity Net Generation Total (including from sources not shown), All Sectors',\n",
       "        'Million Kilowatthours'],\n",
       "       ['ELETPUS', '198213', '2244372.487', '13',\n",
       "        'Electricity Net Generation Total (including from sources not shown), All Sectors',\n",
       "        'Million Kilowatthours'],\n",
       "       ['ELETPUS', '198313', '2313445.686', '13',\n",
       "        'Electricity Net Generation Total (including from sources not shown), All Sectors',\n",
       "        'Million Kilowatthours'],\n",
       "       ['ELETPUS', '198413', '2419465.367', '13',\n",
       "        'Electricity Net Generation Total (including from sources not shown), All Sectors',\n",
       "        'Million Kilowatthours'],\n",
       "       ['ELETPUS', '198513', '2473002.12', '13',\n",
       "        'Electricity Net Generation Total (including from sources not shown), All Sectors',\n",
       "        'Million Kilowatthours'],\n",
       "       ['ELETPUS', '198613', '2490470.952', '13',\n",
       "        'Electricity Net Generation Total (including from sources not shown), All Sectors',\n",
       "        'Million Kilowatthours'],\n",
       "       ['ELETPUS', '198713', '2575287.667', '13',\n",
       "        'Electricity Net Generation Total (including from sources not shown), All Sectors',\n",
       "        'Million Kilowatthours'],\n",
       "       ['ELETPUS', '198813', '2707411.178', '13',\n",
       "        'Electricity Net Generation Total (including from sources not shown), All Sectors',\n",
       "        'Million Kilowatthours'],\n",
       "       ['ELETPUS', '198913', '2967146.087', '13',\n",
       "        'Electricity Net Generation Total (including from sources not shown), All Sectors',\n",
       "        'Million Kilowatthours'],\n",
       "       ['ELETPUS', '199013', '3037827.337', '13',\n",
       "        'Electricity Net Generation Total (including from sources not shown), All Sectors',\n",
       "        'Million Kilowatthours'],\n",
       "       ['ELETPUS', '199113', '3073798.885', '13',\n",
       "        'Electricity Net Generation Total (including from sources not shown), All Sectors',\n",
       "        'Million Kilowatthours'],\n",
       "       ['ELETPUS', '199213', '3083882.204', '13',\n",
       "        'Electricity Net Generation Total (including from sources not shown), All Sectors',\n",
       "        'Million Kilowatthours'],\n",
       "       ['ELETPUS', '199313', '3197191.096', '13',\n",
       "        'Electricity Net Generation Total (including from sources not shown), All Sectors',\n",
       "        'Million Kilowatthours'],\n",
       "       ['ELETPUS', '199413', '3247522.388', '13',\n",
       "        'Electricity Net Generation Total (including from sources not shown), All Sectors',\n",
       "        'Million Kilowatthours'],\n",
       "       ['ELETPUS', '199513', '3353487.362', '13',\n",
       "        'Electricity Net Generation Total (including from sources not shown), All Sectors',\n",
       "        'Million Kilowatthours'],\n",
       "       ['ELETPUS', '199613', '3444187.621', '13',\n",
       "        'Electricity Net Generation Total (including from sources not shown), All Sectors',\n",
       "        'Million Kilowatthours'],\n",
       "       ['ELETPUS', '199713', '3492172.283', '13',\n",
       "        'Electricity Net Generation Total (including from sources not shown), All Sectors',\n",
       "        'Million Kilowatthours'],\n",
       "       ['ELETPUS', '199813', '3620295.498', '13',\n",
       "        'Electricity Net Generation Total (including from sources not shown), All Sectors',\n",
       "        'Million Kilowatthours'],\n",
       "       ['ELETPUS', '199913', '3694809.81', '13',\n",
       "        'Electricity Net Generation Total (including from sources not shown), All Sectors',\n",
       "        'Million Kilowatthours'],\n",
       "       ['ELETPUS', '200013', '3802105.043', '13',\n",
       "        'Electricity Net Generation Total (including from sources not shown), All Sectors',\n",
       "        'Million Kilowatthours'],\n",
       "       ['ELETPUS', '200113', '3736643.649', '13',\n",
       "        'Electricity Net Generation Total (including from sources not shown), All Sectors',\n",
       "        'Million Kilowatthours'],\n",
       "       ['ELETPUS', '200213', '3858452.246', '13',\n",
       "        'Electricity Net Generation Total (including from sources not shown), All Sectors',\n",
       "        'Million Kilowatthours'],\n",
       "       ['ELETPUS', '200313', '3883185.204', '13',\n",
       "        'Electricity Net Generation Total (including from sources not shown), All Sectors',\n",
       "        'Million Kilowatthours'],\n",
       "       ['ELETPUS', '200413', '3970555.264', '13',\n",
       "        'Electricity Net Generation Total (including from sources not shown), All Sectors',\n",
       "        'Million Kilowatthours'],\n",
       "       ['ELETPUS', '200513', '4055422.75', '13',\n",
       "        'Electricity Net Generation Total (including from sources not shown), All Sectors',\n",
       "        'Million Kilowatthours'],\n",
       "       ['ELETPUS', '200613', '4064702.228', '13',\n",
       "        'Electricity Net Generation Total (including from sources not shown), All Sectors',\n",
       "        'Million Kilowatthours'],\n",
       "       ['ELETPUS', '200713', '4156744.724', '13',\n",
       "        'Electricity Net Generation Total (including from sources not shown), All Sectors',\n",
       "        'Million Kilowatthours'],\n",
       "       ['ELETPUS', '200813', '4119387.76', '13',\n",
       "        'Electricity Net Generation Total (including from sources not shown), All Sectors',\n",
       "        'Million Kilowatthours'],\n",
       "       ['ELETPUS', '200913', '3950330.927', '13',\n",
       "        'Electricity Net Generation Total (including from sources not shown), All Sectors',\n",
       "        'Million Kilowatthours'],\n",
       "       ['ELETPUS', '201013', '4125059.9', '13',\n",
       "        'Electricity Net Generation Total (including from sources not shown), All Sectors',\n",
       "        'Million Kilowatthours'],\n",
       "       ['ELETPUS', '201113', '4100140.927', '13',\n",
       "        'Electricity Net Generation Total (including from sources not shown), All Sectors',\n",
       "        'Million Kilowatthours'],\n",
       "       ['ELETPUS', '201213', '4047765.26', '13',\n",
       "        'Electricity Net Generation Total (including from sources not shown), All Sectors',\n",
       "        'Million Kilowatthours'],\n",
       "       ['ELETPUS', '201313', '4065964.068', '13',\n",
       "        'Electricity Net Generation Total (including from sources not shown), All Sectors',\n",
       "        'Million Kilowatthours'],\n",
       "       ['ELETPUS', '201413', '4093564.143', '13',\n",
       "        'Electricity Net Generation Total (including from sources not shown), All Sectors',\n",
       "        'Million Kilowatthours'],\n",
       "       ['ELETPUS', '201513', '4078713.773', '13',\n",
       "        'Electricity Net Generation Total (including from sources not shown), All Sectors',\n",
       "        'Million Kilowatthours'],\n",
       "       ['ELETPUS', '201613', '4077573.801', '13',\n",
       "        'Electricity Net Generation Total (including from sources not shown), All Sectors',\n",
       "        'Million Kilowatthours'],\n",
       "       ['ELETPUS', '201713', '4035442.895', '13',\n",
       "        'Electricity Net Generation Total (including from sources not shown), All Sectors',\n",
       "        'Million Kilowatthours'],\n",
       "       ['ELETPUS', '201813', '4180987.703', '13',\n",
       "        'Electricity Net Generation Total (including from sources not shown), All Sectors',\n",
       "        'Million Kilowatthours'],\n",
       "       ['ELETPUS', '201913', '4130573.88', '13',\n",
       "        'Electricity Net Generation Total (including from sources not shown), All Sectors',\n",
       "        'Million Kilowatthours'],\n",
       "       ['ELETPUS', '202013', '4009766.846', '13',\n",
       "        'Electricity Net Generation Total (including from sources not shown), All Sectors',\n",
       "        'Million Kilowatthours'],\n",
       "       ['ELETPUS', '202113', '4108302.835', '13',\n",
       "        'Electricity Net Generation Total (including from sources not shown), All Sectors',\n",
       "        'Million Kilowatthours']], dtype='<U80')"
      ]
     },
     "execution_count": 17,
     "metadata": {},
     "output_type": "execute_result"
    }
   ],
   "source": [
    "annual_other_sources_data"
   ]
  },
  {
   "cell_type": "markdown",
   "id": "e6829473",
   "metadata": {},
   "source": [
    "## Analysis"
   ]
  },
  {
   "cell_type": "code",
   "execution_count": 18,
   "id": "ee6bf535",
   "metadata": {
    "scrolled": true
   },
   "outputs": [
    {
     "data": {
      "text/plain": [
       "array([ True,  True,  True,  True,  True,  True,  True,  True,  True,\n",
       "        True,  True,  True,  True,  True,  True,  True,  True,  True,\n",
       "        True,  True,  True,  True,  True,  True, False, False, False,\n",
       "       False, False, False, False, False, False, False, False, False,\n",
       "        True, False, False, False, False, False, False, False, False,\n",
       "       False, False, False, False,  True, False, False, False, False,\n",
       "       False, False, False, False, False, False, False, False,  True,\n",
       "       False, False, False, False, False, False, False, False, False,\n",
       "       False, False, False,  True, False, False, False, False, False,\n",
       "       False, False, False, False, False, False, False,  True, False,\n",
       "       False, False, False, False, False, False, False, False, False,\n",
       "       False, False,  True, False, False, False, False, False, False,\n",
       "       False, False, False, False, False, False,  True, False, False,\n",
       "       False, False, False, False, False, False, False, False, False,\n",
       "       False,  True, False, False, False, False, False, False, False,\n",
       "       False, False, False, False, False,  True, False, False, False,\n",
       "       False, False, False, False, False, False, False, False, False,\n",
       "        True, False, False, False, False, False, False, False, False,\n",
       "       False, False, False, False,  True, False, False, False, False,\n",
       "       False, False, False, False, False, False, False, False,  True,\n",
       "       False, False, False, False, False, False, False, False, False,\n",
       "       False, False, False,  True, False, False, False, False, False,\n",
       "       False, False, False, False, False, False, False,  True, False,\n",
       "       False, False, False, False, False, False, False, False, False,\n",
       "       False, False,  True, False, False, False, False, False, False,\n",
       "       False, False, False, False, False, False,  True, False, False,\n",
       "       False, False, False, False, False, False, False, False, False,\n",
       "       False,  True, False, False, False, False, False, False, False,\n",
       "       False, False, False, False, False,  True, False, False, False,\n",
       "       False, False, False, False, False, False, False, False, False,\n",
       "        True, False, False, False, False, False, False, False, False,\n",
       "       False, False, False, False,  True, False, False, False, False,\n",
       "       False, False, False, False, False, False, False, False,  True,\n",
       "       False, False, False, False, False, False, False, False, False,\n",
       "       False, False, False,  True, False, False, False, False, False,\n",
       "       False, False, False, False, False, False, False,  True, False,\n",
       "       False, False, False, False, False, False, False, False, False,\n",
       "       False, False,  True, False, False, False, False, False, False,\n",
       "       False, False, False, False, False, False,  True, False, False,\n",
       "       False, False, False, False, False, False, False, False, False,\n",
       "       False,  True, False, False, False, False, False, False, False,\n",
       "       False, False, False, False, False,  True, False, False, False,\n",
       "       False, False, False, False, False, False, False, False, False,\n",
       "        True, False, False, False, False, False, False, False, False,\n",
       "       False, False, False, False,  True, False, False, False, False,\n",
       "       False, False, False, False, False, False, False, False,  True,\n",
       "       False, False, False, False, False, False, False, False, False,\n",
       "       False, False, False,  True, False, False, False, False, False,\n",
       "       False, False, False, False, False, False, False,  True, False,\n",
       "       False, False, False, False, False, False, False, False, False,\n",
       "       False, False,  True, False, False, False, False, False, False,\n",
       "       False, False, False, False, False, False,  True, False, False,\n",
       "       False, False, False, False, False, False, False, False, False,\n",
       "       False,  True, False, False, False, False, False, False, False,\n",
       "       False, False, False, False, False,  True, False, False, False,\n",
       "       False, False, False, False, False, False, False, False, False,\n",
       "        True, False, False, False, False, False, False, False, False,\n",
       "       False, False, False, False,  True, False, False, False, False,\n",
       "       False, False, False, False, False, False, False, False,  True,\n",
       "       False, False, False, False, False, False, False, False, False,\n",
       "       False, False, False,  True, False, False, False, False, False,\n",
       "       False, False, False, False, False, False, False,  True, False,\n",
       "       False, False, False, False, False, False, False, False, False,\n",
       "       False, False,  True, False, False, False, False, False, False,\n",
       "       False, False, False, False, False, False,  True, False, False,\n",
       "       False, False, False, False, False, False, False, False, False,\n",
       "       False,  True, False, False, False, False, False, False, False,\n",
       "       False, False, False, False, False,  True, False, False, False,\n",
       "       False, False, False, False, False, False, False, False, False,\n",
       "        True, False, False, False, False, False, False, False, False,\n",
       "       False, False, False, False,  True, False, False, False, False,\n",
       "       False, False, False, False, False, False, False, False,  True,\n",
       "       False, False, False, False, False, False, False, False, False,\n",
       "       False, False, False,  True, False, False, False, False, False,\n",
       "       False, False, False, False, False, False])"
      ]
     },
     "execution_count": 18,
     "metadata": {},
     "output_type": "execute_result"
    }
   ],
   "source": [
    "np.array([x[-2:] == '13' for x in other_sources_data[:,1]])"
   ]
  },
  {
   "cell_type": "markdown",
   "id": "3c3d2aff",
   "metadata": {},
   "source": [
    "## Total Energy Generated"
   ]
  },
  {
   "cell_type": "code",
   "execution_count": 19,
   "id": "a99a91d9",
   "metadata": {},
   "outputs": [],
   "source": [
    "all_energy = annual_other_sources_data[:,2].astype(float)"
   ]
  },
  {
   "cell_type": "code",
   "execution_count": 20,
   "id": "e3d362c1",
   "metadata": {},
   "outputs": [
    {
     "name": "stdout",
     "output_type": "stream",
     "text": [
      "The total other_sources energy generated in USA between 1986 - 2021: 181868972.629 killowatt per hours\n"
     ]
    }
   ],
   "source": [
    "print(\"The total other_sources energy generated in USA between 1986 - 2021: {} killowatt per hours\".format(all_energy.sum()))"
   ]
  },
  {
   "cell_type": "markdown",
   "id": "03470c44",
   "metadata": {},
   "source": [
    "## The Mean Of Other_Sources Energy Generated"
   ]
  },
  {
   "cell_type": "code",
   "execution_count": 21,
   "id": "5ea92ee4",
   "metadata": {},
   "outputs": [
    {
     "data": {
      "text/plain": [
       "2491355.789438356"
      ]
     },
     "execution_count": 21,
     "metadata": {},
     "output_type": "execute_result"
    }
   ],
   "source": [
    "all_energy.mean()"
   ]
  },
  {
   "cell_type": "markdown",
   "id": "eb53abcc",
   "metadata": {},
   "source": [
    "## The Standard Deviation"
   ]
  },
  {
   "cell_type": "code",
   "execution_count": 22,
   "id": "93568b56",
   "metadata": {},
   "outputs": [
    {
     "data": {
      "text/plain": [
       "1329903.6926403698"
      ]
     },
     "execution_count": 22,
     "metadata": {},
     "output_type": "execute_result"
    }
   ],
   "source": [
    "all_energy.std()"
   ]
  },
  {
   "cell_type": "code",
   "execution_count": 23,
   "id": "992e86e0",
   "metadata": {},
   "outputs": [
    {
     "data": {
      "text/plain": [
       "4180987.703"
      ]
     },
     "execution_count": 23,
     "metadata": {},
     "output_type": "execute_result"
    }
   ],
   "source": [
    "all_energy.max()"
   ]
  },
  {
   "cell_type": "code",
   "execution_count": 24,
   "id": "705a7bd9",
   "metadata": {},
   "outputs": [
    {
     "data": {
      "text/plain": [
       "296124.289"
      ]
     },
     "execution_count": 24,
     "metadata": {},
     "output_type": "execute_result"
    }
   ],
   "source": [
    "all_energy.min()"
   ]
  },
  {
   "cell_type": "code",
   "execution_count": 25,
   "id": "db916507",
   "metadata": {},
   "outputs": [],
   "source": [
    "y = annual_other_sources_data[:,1] # year\n",
    "x = annual_other_sources_data[:,2] # energy"
   ]
  },
  {
   "cell_type": "code",
   "execution_count": 26,
   "id": "f366e21b",
   "metadata": {},
   "outputs": [
    {
     "data": {
      "image/png": "[encoded data removed]",
      "text/plain": [
       "<Figure size 432x288 with 1 Axes>"
      ]
     },
     "metadata": {
      "needs_background": "light"
     },
     "output_type": "display_data"
    }
   ],
   "source": [
    "plt.plot(y,x)\n",
    "plt.ylabel(\"Year\")\n",
    "plt.xlabel(\"Energy\")\n",
    "plt.show()"
   ]
  },
  {
   "cell_type": "code",
   "execution_count": null,
   "id": "7d0ff156",
   "metadata": {},
   "outputs": [],
   "source": []
  }
 ],
 "metadata": {
  "kernelspec": {
   "display_name": "Python 3 (ipykernel)",
   "language": "python",
   "name": "python3"
  },
  "language_info": {
   "codemirror_mode": {
    "name": "ipython",
    "version": 3
   },
   "file_extension": ".py",
   "mimetype": "text/x-python",
   "name": "python",
   "nbconvert_exporter": "python",
   "pygments_lexer": "ipython3",
   "version": "3.9.12"
  }
 },
 "nbformat": 4,
 "nbformat_minor": 5
}
